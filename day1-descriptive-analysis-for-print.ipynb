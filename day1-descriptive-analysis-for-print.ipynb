{
 "cells": [
  {
   "cell_type": "markdown",
   "metadata": {
    "slideshow": {
     "slide_type": "slide"
    }
   },
   "source": [
    "# 마케터를 위한 기초통계\n",
    "- 디지털 마케팅 SCHOOL"
   ]
  },
  {
   "cell_type": "markdown",
   "metadata": {},
   "source": [
    "### 박재근\n",
    "\n",
    "- 데일리인텔리전스, 솔리드웨어, ML Scientist\n",
    "- 패스트캠퍼스, 데이터사이언스 PM\n",
    "- 데이터 사이언스 스쿨 1기 수료생\n",
    "- 교통/물류학 전공"
   ]
  },
  {
   "cell_type": "markdown",
   "metadata": {
    "slideshow": {
     "slide_type": "slide"
    }
   },
   "source": [
    "## 수업의 개요\n",
    "### Chapter 1. 통계를 왜 배워야 하는가 ?\n",
    "- 통계의 목적\n",
    "- 모델링\n",
    "\n",
    "### Chapter 2. 통계의 언어 배우기\n",
    "- 모집단과 표본\n",
    "- 모수와 통계량\n",
    "- 기술통계와 추론통계\n",
    "- 평균과 분산, 표준편차\n",
    "- 확률론\n",
    " - 조건부확률과 베이즈정리\n",
    " - 확률변수와 확률분포\n",
    " \n",
    "### Chapter 3. 분석의 기본 단계 (과정) 알기\n",
    "- 표본\n",
    "- 통계적 추정\n",
    " - 신뢰도와 신뢰구간\n",
    "- 통계적 가설검정\n",
    " - 유의수준과 P-value\n",
    "\n",
    "### Chapter 4. 분석 방법론 (모형) 배우기\n",
    "- A/B test\n",
    "- 상관분석\n",
    "- 회귀분석"
   ]
  },
  {
   "cell_type": "markdown",
   "metadata": {},
   "source": [
    "<br><br>"
   ]
  },
  {
   "cell_type": "markdown",
   "metadata": {},
   "source": [
    "<br>"
   ]
  },
  {
   "cell_type": "markdown",
   "metadata": {},
   "source": [
    "<br>"
   ]
  },
  {
   "cell_type": "markdown",
   "metadata": {},
   "source": [
    "<br>"
   ]
  },
  {
   "cell_type": "markdown",
   "metadata": {
    "slideshow": {
     "slide_type": "slide"
    }
   },
   "source": [
    "# Chapter 1. 통계를 왜 배워야 하는가 ?\n",
    "- 통계의 목적\n",
    "- 모델링\n",
    "---"
   ]
  },
  {
   "cell_type": "markdown",
   "metadata": {
    "slideshow": {
     "slide_type": "subslide"
    }
   },
   "source": [
    "### Prediction\n",
    "- 불확실성을 줄이고, 최대한 정답을 맞춰가는 것 ( 예측하는 것 )"
   ]
  },
  {
   "cell_type": "markdown",
   "metadata": {
    "slideshow": {
     "slide_type": "subslide"
    }
   },
   "source": [
    "### 불확실성을 줄이자. 정답에 근접할 가능성을 높이자 !!! ( ★ )\n",
    "\n",
    "- 우리가 문제의 정답을 맞추기 위해 풀어나가는 사고방식 그대로 통계분석도 똑같은 원리로 작동한다."
   ]
  },
  {
   "cell_type": "markdown",
   "metadata": {
    "slideshow": {
     "slide_type": "subslide"
    }
   },
   "source": [
    "## 1.2. 모델링\n",
    "- 현실의 문제를 데이터 분석 문제로 변환\n",
    " - ***수학적 기호로 Modeling ( ★ )***\n",
    " - ***\\+ 수많은 가정들이 포함됨 ( ★ )***"
   ]
  },
  {
   "cell_type": "markdown",
   "metadata": {
    "slideshow": {
     "slide_type": "subslide"
    }
   },
   "source": [
    "<center>현실의 모형화 : $y = f(X)$</center><br>\n",
    "<center>⬇︎</center><br>\n",
    "<center>예측 모델 : $\\hat{y} = \\hat{f}(X) = \\text{argmax} ~ P(y \\vert X_{new}, D, M)$</center>"
   ]
  },
  {
   "cell_type": "markdown",
   "metadata": {
    "slideshow": {
     "slide_type": "subslide"
    }
   },
   "source": [
    "### ⭐️ 표시 한 내용이 무엇이었나요?\n",
    "- ***불확실성을 줄이자. 정답에 근접할 가능성을 높이자 !!! ( ★ ) ➜ <font color=\"blue\">확률</font>***\n",
    "- ***수학적 기호로 Modeling ( ★ ) ➜ <font color=\"blue\">확률분포, 확률모형</font>***\n",
    "- ***\\+ 수많은 가정들이 포함됨 ( ★ ) ➜ <font color=\"blue\">정규성</font>***"
   ]
  },
  {
   "cell_type": "markdown",
   "metadata": {},
   "source": [
    "<br><br><br><br><br><br><br>"
   ]
  },
  {
   "cell_type": "markdown",
   "metadata": {},
   "source": [
    "<br>"
   ]
  },
  {
   "cell_type": "markdown",
   "metadata": {},
   "source": [
    "<br>"
   ]
  },
  {
   "cell_type": "markdown",
   "metadata": {},
   "source": [
    "</br>"
   ]
  },
  {
   "cell_type": "markdown",
   "metadata": {},
   "source": [
    "</br>"
   ]
  },
  {
   "cell_type": "markdown",
   "metadata": {},
   "source": [
    "</br>"
   ]
  },
  {
   "cell_type": "markdown",
   "metadata": {
    "slideshow": {
     "slide_type": "slide"
    }
   },
   "source": [
    "# Chapter 2. 통계의 언어 배우기\n",
    "- 모집단과 표본\n",
    "- 모수와 통계량\n",
    "- 기술통계와 추론통계\n",
    "- 평균과 분산, 표준편차\n",
    "- 확률론\n",
    " - 조건부확률과 베이즈정리\n",
    " - 확률변수와 확률분포\n",
    "---"
   ]
  },
  {
   "cell_type": "markdown",
   "metadata": {
    "slideshow": {
     "slide_type": "subslide"
    }
   },
   "source": [
    "## 모집단과 표본\n",
    "\n",
    "<img src=\"./img/population-sample-1.png\" align=\"left\" width=330>\n",
    "<img src=\"./img/population-sample-2.jpeg\" align=\"right\" width=320>"
   ]
  },
  {
   "cell_type": "markdown",
   "metadata": {
    "slideshow": {
     "slide_type": "subslide"
    }
   },
   "source": [
    "## 2.1.  모집단과 표본\n",
    "- **모집단 ( Populataion )**\n",
    " - 분석가의 관심 대상이 되는 모든 개체의 집합\n",
    " - 규모가 작을 때에는 모든 개체를 조사 가능 ( 전수조사 )\n",
    " - 그러나 규모가 클 경우, 다 조사하기 힘듦\n",
    " - ex. 대한민국 고등학교 학생들의 키\n",
    "- **표본 ( Sample )**\n",
    " - 조사 대상으로 채택된 일부 집합\n",
    " - 모집단의 규모가 큰 경우, 일부 표본을 뽑아 이를 분석\n",
    " - 모집단의 특성을 파악 ( 추측 )\n",
    " - ex. 서울, 부산, 광주, ... 일부 고등학교 학생 5000명의 키"
   ]
  },
  {
   "cell_type": "markdown",
   "metadata": {
    "slideshow": {
     "slide_type": "subslide"
    }
   },
   "source": [
    "## 2.2. 모수와 통계량\n",
    "- **모수 ( Parameter )**\n",
    " - 모집단의 특성을 수치로 나타낸 것\n",
    " - 평균, 분산, 표준편차 : $\\mu, { \\sigma  }^{ 2 }, \\sigma$\n",
    "- **통계량 ( Statistic )**\n",
    " - 표본의 특성을 수치로 나타낸 것\n",
    " - 평균, 분산, 표준편차 : $\\overset { \\_ \\_  }{ X } ,{ S }^{ 2 },S$\n",
    "- 모집단과 표본을 구분하기 위해 기호를 달리하여 사용"
   ]
  },
  {
   "cell_type": "markdown",
   "metadata": {},
   "source": [
    "<br>"
   ]
  },
  {
   "cell_type": "markdown",
   "metadata": {},
   "source": [
    "<br>"
   ]
  },
  {
   "cell_type": "markdown",
   "metadata": {},
   "source": [
    "<br>"
   ]
  },
  {
   "cell_type": "markdown",
   "metadata": {
    "slideshow": {
     "slide_type": "subslide"
    }
   },
   "source": [
    "## 2.3. 기술통계와 추론통계\n",
    "- **기술통계학 ( Descriptive Statistics )**\n",
    " - 자료를 정리하고 요약하는 자료특성의 계산과 관련된 통계학\n",
    " - ex. 우리반 평균 시험점수를 알기 위해 학생들 점수를 모아 평균을 구하는 것\n",
    "- **추론통계학 ( Inferential Statistics )**\n",
    " - 모집단에서 뽑은 표본을 분석하여 이를 기초로 모집단의 특성을 추론하는 통계학\n",
    " - ex. 우리나라 고등학교 수능모의고사 평균을 알아보기 위해 몇만 명만 표본으로 뽑아 그들의 점수를 바탕으로 전체 평균을 추측하는 것"
   ]
  },
  {
   "cell_type": "markdown",
   "metadata": {
    "slideshow": {
     "slide_type": "subslide"
    }
   },
   "source": [
    "## 2.3. 기술통계와 추론통계\n",
    "<center><img src=\"http://databaser.net/moniwiki/pds/_ed_86_b5_ea_b3_84_ed_95_99_ec_9d_b4_eb_9e_80_eb_ac_b4_ec_97_87_ec_9d_b8_ea_b0_80/statistics.jpg\", width=300,></center>"
   ]
  },
  {
   "cell_type": "markdown",
   "metadata": {
    "slideshow": {
     "slide_type": "subslide"
    }
   },
   "source": [
    "## 2.4. 변수 ( 1 )\n",
    "### 양적변수 ( quantitative variable, real value )\n",
    "\n",
    "수치로 나타낼 수 있는 변수\n",
    " - **이산변수 ( discrete )**\n",
    "   - 정숫값을 취한 수 있는 변수\n",
    "   - ex. 자녀수, 자동차판매대수, 세션수 등\n",
    " - **연속변수 ( continuous )**\n",
    "   - 모든 실수값을 취할 수 있는 변수\n",
    "   - ex. 길이, 무게 등"
   ]
  },
  {
   "cell_type": "markdown",
   "metadata": {},
   "source": [
    "<br>"
   ]
  },
  {
   "cell_type": "markdown",
   "metadata": {},
   "source": [
    "<br>"
   ]
  },
  {
   "cell_type": "markdown",
   "metadata": {},
   "source": [
    "<br>"
   ]
  },
  {
   "cell_type": "markdown",
   "metadata": {},
   "source": [
    "<br>"
   ]
  },
  {
   "cell_type": "markdown",
   "metadata": {
    "slideshow": {
     "slide_type": "subslide"
    }
   },
   "source": [
    "## 2.4. 변수 ( 2 )\n",
    "### 질적변수 ( qualitative variable, categorical value )\n",
    "\n",
    "수치로 나타낼 수 없는 변수\n",
    "  - **명목변수 ( nominal )**\n",
    "    - ex. 성별, 종교, 출생지, 운동선수 등번호 등\n",
    "  - **서열변수 ( ordinal )**\n",
    "    - 측정대상 간의 순서를 매기기 위해 사용되는 변수\n",
    "    - ex. 성적 A, B, C 등급"
   ]
  },
  {
   "cell_type": "markdown",
   "metadata": {
    "slideshow": {
     "slide_type": "subslide"
    }
   },
   "source": [
    "## 2.5. 자료의 정리 - 도수분포표\n",
    "\n",
    "수집된 자료를 적절한 등급(또는 범주)으로 분류하고 각 등급에 해당되는 빈도수 등을 정리한 표\n",
    "<center><img src=\"http://trsketch.dothome.co.kr/_contents/2009curi/images/img900027.png\", width=500></center>"
   ]
  },
  {
   "cell_type": "markdown",
   "metadata": {
    "slideshow": {
     "slide_type": "subslide"
    }
   },
   "source": [
    "## 2.5. 자료의 정리 - 히스토그램\n",
    "\n",
    "- 도수분포표를 그래프로 나타낸 것\n",
    "- 보통 히스토그램에서는 가로축이 계급, 세로축이 도수를 뜻함\n",
    "\n",
    "<center><img src=\"https://upload.wikimedia.org/wikipedia/commons/1/1d/Example_histogram.png\", width=280></center>"
   ]
  },
  {
   "cell_type": "markdown",
   "metadata": {},
   "source": [
    "<br>"
   ]
  },
  {
   "cell_type": "markdown",
   "metadata": {},
   "source": [
    "<br>"
   ]
  },
  {
   "cell_type": "markdown",
   "metadata": {
    "slideshow": {
     "slide_type": "subslide"
    }
   },
   "source": [
    "### 히스토그램 ( 예제 ) - 문제\n",
    "- 질적 자료의 도수분포표 & 히스토그램 작성하기\n",
    " - 아파트 A 에 어떤 직업을 가진 사람들이 얼마나 살고 있는가를 알기 위해서 세대주들의 직업을 조사해 보니 다음과 같았다. 아래 데이터를 이용하여 4개의 직업을 구분한 도수분포표와 히스토그램을 그려라.\n",
    "<br>\n",
    "<center><img src=\"./img/example1-histogram1.png\", width=500></center>\n"
   ]
  },
  {
   "cell_type": "markdown",
   "metadata": {
    "slideshow": {
     "slide_type": "subslide"
    }
   },
   "source": [
    "### 히스토그램 ( 예제 ) - 정답\n",
    "<br><br><br><br><br><br><br><br><br>"
   ]
  },
  {
   "cell_type": "markdown",
   "metadata": {},
   "source": [
    "<br>"
   ]
  },
  {
   "cell_type": "markdown",
   "metadata": {
    "slideshow": {
     "slide_type": "subslide"
    }
   },
   "source": [
    "### 히스토그램 ( 실습 ) - GA데이터로 히스토그램 그리기\n"
   ]
  },
  {
   "cell_type": "markdown",
   "metadata": {
    "slideshow": {
     "slide_type": "subslide"
    }
   },
   "source": [
    "### 히스토그램 ( 실습 ) - 준비단계 ( 1 )\n",
    "\n",
    "- 데이터 수집\n",
    " - GA접속 - 잠재고객 개요 - 내보내기 - Excel(XLSX)\n",
    " - \"DMS실습(1)-히스토그램, 분포특성.xlsx\" 로 함께 실습\n",
    "\n",
    "<center><img src=\"./img/histogram-0.png\", width=600></center>"
   ]
  },
  {
   "cell_type": "markdown",
   "metadata": {},
   "source": [
    "<br>"
   ]
  },
  {
   "cell_type": "markdown",
   "metadata": {},
   "source": [
    "<br>"
   ]
  },
  {
   "cell_type": "markdown",
   "metadata": {
    "slideshow": {
     "slide_type": "subslide"
    }
   },
   "source": [
    "### 히스토그램 ( 실습 ) - 준비단계 ( 2 )\n",
    "\n",
    "- 엑셀 **분석도구** 추가하기 ( Windows OS )\n",
    " - 파일 - 옵션 - 추가기능 - 분석도구 클릭\n",
    " - 이동 클릭\n",
    "\n",
    "<center><img src=\"./img/histogram-2.png\", width=500></center>"
   ]
  },
  {
   "cell_type": "markdown",
   "metadata": {},
   "source": [
    "<br>"
   ]
  },
  {
   "cell_type": "markdown",
   "metadata": {
    "slideshow": {
     "slide_type": "subslide"
    }
   },
   "source": [
    "### 히스토그램 ( 실습 ) - 준비단계 ( 3 )\n",
    "\n",
    "- 엑셀 **분석도구** 추가하기 ( Window OS )\n",
    " - 추가기능 상자에서 **분석도구** 클릭 - 확인\n",
    "- 엑셀 **분석도구** 추가하기 ( Mac OS )\n",
    " - 도구(Tools) - 추가기능(Add-ins) - 분석도구(Analysis ToolPack)\n",
    " \n",
    "<img src=\"./img/histogram-3.png\" width=250 style=\"float: left; margin-left: 70px;\">\n",
    "<img src=\"./img/histogram-1.png\" width=250 style=\"float: right; margin-right: 70px;\">"
   ]
  },
  {
   "cell_type": "markdown",
   "metadata": {},
   "source": [
    "<br>"
   ]
  },
  {
   "cell_type": "markdown",
   "metadata": {},
   "source": [
    "<br>"
   ]
  },
  {
   "cell_type": "markdown",
   "metadata": {},
   "source": [
    "<br>"
   ]
  },
  {
   "cell_type": "markdown",
   "metadata": {
    "slideshow": {
     "slide_type": "subslide"
    }
   },
   "source": [
    "## 2.6. 분포의 특성 ( 1 ) - 집중화경향\n",
    "\n",
    "### 최빈값 ( mode )\n",
    "최빈값은 빈도수가 가장 많이 발생한 관찰값을 말함\n",
    "- ex) 1, 3, 6, 6, 6, 7, 7, 12, 12, 19 있을때, 최빈값은 6이다.\n",
    "\n",
    "### 중앙값 ( median )\n",
    "중앙값은 수치로 된 자료를 크기순서대로 나열할 때, 가장 가운데에 위치하는 관찰값을 말한다.\n",
    "- ex) 1, 2, 4, 5, 7, 9, 10 있을때, 중앙값은 5이다."
   ]
  },
  {
   "cell_type": "markdown",
   "metadata": {
    "slideshow": {
     "slide_type": "subslide"
    }
   },
   "source": [
    "## 2.6. 분포의 특성 ( 1 ) - 집중화경향\n",
    "\n",
    "### 산술평균 ( arithmetic mean )\n",
    "우리가 흔히 사용하는 간단한 평균, 그냥 \"평균\" 이라고도 한다.\n",
    "\n",
    "$$\\bar{X} = \\frac{X_1 + X_2 + \\cdots + X_n}{n} = \\frac{\\sum X_i}{n} $$\n",
    "\n",
    "### 가중평균 ( weighted arithmetic mean )\n",
    "같은 모집단에서 표본을 서로 다른 개수로 뽑은 경우 (가중치가 존재하는 경우) 평균값을 구할때 사용\n",
    "\n",
    "$$\\bar{X} = \\frac{n_1 X_1 + n_2 X_2 + \\cdots + n_k X_k}{n_1 + n_2 + \\cdots + n_k} = \\frac{\\sum n_i X_i}{\\sum n_i} $$ "
   ]
  },
  {
   "cell_type": "markdown",
   "metadata": {
    "slideshow": {
     "slide_type": "subslide"
    }
   },
   "source": [
    "### 평균과 최빈값, 중앙값 위치 비교\n",
    "- 대칭분포\n",
    " - 평균 = 중앙값 = 최빈값 모두 같다\n",
    "- 왼쪽꼬리분포 ( skewed to the left )\n",
    " - 평균은 중앙값보다 작다\n",
    "- 오른쪽꼬리분포 ( skewed to the right )\n",
    " - 평균은 중앙값보다 크다\n",
    " \n",
    "<img src=\"http://webbuild1.knu.ac.kr/~bskim/image/skew2.jpg\" width=450>"
   ]
  },
  {
   "cell_type": "markdown",
   "metadata": {},
   "source": [
    "<br>"
   ]
  },
  {
   "cell_type": "markdown",
   "metadata": {},
   "source": [
    "<br>"
   ]
  },
  {
   "cell_type": "markdown",
   "metadata": {
    "slideshow": {
     "slide_type": "subslide"
    }
   },
   "source": [
    "## 2.6. 분포의 특성 ( 2 ) - 흩어진 정도\n",
    "### 분산 ( variance )\n",
    "자료가 평균으로부터 얼마나 떨어져 분포하는지를 가늠하는 숫자 <br />\n",
    "분산이란 각각의 관찰값에 대한 평균과의 편차를 제곱하여 그 평균을 구한 것\n",
    "\n",
    "- 모집단의 분산 ( ${ \\sigma  }^{ 2 }$ )\n",
    "- 표본의 분산 ( ${S}^2$)\n",
    "  - $n$ 대신 $(n-1)$을 나누는 이유는, $(n-1)$을 나누어줌으로써 모집단의 $\\sigma$를 추정하는데 더 적절한 표준편차를 구하기 위함이다.\n",
    "  \n",
    "<center><img src=\"http://www.safetygo.com/xe/files/attach/images/384/602/013/02df6495492411476f5dd9608a8718f6.gif\", width=500,></center>"
   ]
  },
  {
   "cell_type": "markdown",
   "metadata": {},
   "source": [
    "<br>"
   ]
  },
  {
   "cell_type": "markdown",
   "metadata": {
    "slideshow": {
     "slide_type": "subslide"
    }
   },
   "source": [
    "## 2.6. 분포의 특성 ( 2 ) - 흩어진 정도\n",
    "### 표준편차 ( standard deviation )\n",
    "분산의 양의 제곱근 \n",
    "\n",
    "- 모집단의 표준편차 ( $\\sigma = \\sqrt{\\sigma ^2}$ )\n",
    "- 표본의 표준편차 ( $S = \\sqrt{S ^2}$ )"
   ]
  },
  {
   "cell_type": "markdown",
   "metadata": {
    "slideshow": {
     "slide_type": "subslide"
    }
   },
   "source": [
    "### 분포의 특성 ( 실습 )\n",
    "- 전체 세션의 평균과 분산, 표준편차 등을 구해보자 ( 기술통계 )\n",
    "- \"DMS실습(1)-히스토그램, 분포특성.xlsx\" - \"Descriptive Sheet\""
   ]
  },
  {
   "cell_type": "markdown",
   "metadata": {},
   "source": [
    "<br>"
   ]
  },
  {
   "cell_type": "markdown",
   "metadata": {},
   "source": [
    "<br>"
   ]
  },
  {
   "cell_type": "markdown",
   "metadata": {},
   "source": [
    "<br>"
   ]
  },
  {
   "cell_type": "markdown",
   "metadata": {},
   "source": [
    "<br>"
   ]
  },
  {
   "cell_type": "markdown",
   "metadata": {},
   "source": [
    "<br>"
   ]
  },
  {
   "cell_type": "markdown",
   "metadata": {},
   "source": [
    "<br>"
   ]
  },
  {
   "cell_type": "markdown",
   "metadata": {},
   "source": [
    "<br>"
   ]
  },
  {
   "cell_type": "markdown",
   "metadata": {
    "slideshow": {
     "slide_type": "slide"
    }
   },
   "source": [
    "## 2.7. 확률론\n",
    "- 확률( probability )이란 어떤 상황이 발생할 가능성"
   ]
  },
  {
   "cell_type": "markdown",
   "metadata": {
    "slideshow": {
     "slide_type": "subslide"
    }
   },
   "source": [
    "### 2.7.1. 집합이론\n",
    "- 확률이론을 쉽게 설명하기 위해서는 집합이론의 용어와 부호 사용하는 것이 편리\n",
    "- 집합 ( set ) 이란 개체 또는 원소 ( element )의 모임이라 정의\n",
    "- 원소는 { ... } 속에 넣는 것이 관례\n",
    " - ex. A = { 남자, 여자 }, B = { 10대, 20대, 30대, ... }"
   ]
  },
  {
   "cell_type": "markdown",
   "metadata": {
    "slideshow": {
     "slide_type": "subslide"
    }
   },
   "source": [
    "**1. 여집합**\n",
    "-  $A^C$ = { 전체집합 중에서 집합 A 에 포함되지 않는 원소들 }\n",
    "<center><img src=\"https://upload.wikimedia.org/wikipedia/commons/thumb/b/b9/SetComplement.svg/400px-SetComplement.svg.png\", width=150></center>\n",
    "\n",
    "**2. 합집합**\n",
    "-  $A \\cup B$ = { 집합 A 또는 집합 B에 속하는 원소  }\n",
    "<center><img src=\"https://upload.wikimedia.org/wikipedia/commons/thumb/3/32/SetUnion.svg/500px-SetUnion.svg.png\", width=150></center>"
   ]
  },
  {
   "cell_type": "markdown",
   "metadata": {
    "slideshow": {
     "slide_type": "subslide"
    }
   },
   "source": [
    "\n",
    "**3. 교집합**\n",
    "-  $A \\cap B$ = { 집합 A와 B의 공통 원소  }\n",
    "<center><img src=\"https://upload.wikimedia.org/wikipedia/commons/thumb/c/cb/SetIntersection.svg/500px-SetIntersection.svg.png\", width=150></center>\n",
    "\n",
    "**합집합의 계산**\n",
    "- $ A \\cup B = A + B - A \\cap B $\n",
    " - if) 집합 $A$와 $B$가 서로 배타적( mutually exclusive )일 때 <br>( $A \\cap B = \\emptyset$ )\n",
    " - $ A \\cup B = A + B $\n"
   ]
  },
  {
   "cell_type": "markdown",
   "metadata": {},
   "source": [
    "<br>"
   ]
  },
  {
   "cell_type": "markdown",
   "metadata": {},
   "source": [
    "<br>"
   ]
  },
  {
   "cell_type": "markdown",
   "metadata": {},
   "source": [
    "<br>"
   ]
  },
  {
   "cell_type": "markdown",
   "metadata": {},
   "source": [
    "<br>"
   ]
  },
  {
   "cell_type": "markdown",
   "metadata": {
    "slideshow": {
     "slide_type": "subslide"
    }
   },
   "source": [
    "### 집합이론 ( 예제 ) - 문제\n",
    "- 100명의 학생이 시험을 본 결과, 영어시험에서 60점 이상 받은 학생은 40명, 국어시험에서 60점 이상 받은 학생이 50명이었다. 영어시험과 국어시험 모두 60점 이상 받은 학생이 15명이라면, 최소한 한 과목에서 60점 이상을 받은 학생은 몇명인가?"
   ]
  },
  {
   "cell_type": "markdown",
   "metadata": {
    "slideshow": {
     "slide_type": "subslide"
    }
   },
   "source": [
    "### 집합이론 ( 예제 ) - 정답\n",
    "<br><br><br><br><br><br><br><br><br><br><br>"
   ]
  },
  {
   "cell_type": "markdown",
   "metadata": {},
   "source": [
    "<br>"
   ]
  },
  {
   "cell_type": "markdown",
   "metadata": {
    "slideshow": {
     "slide_type": "subslide"
    }
   },
   "source": [
    "### 2.7.2.  확률법칙 ( 1 )\n",
    "\n",
    "### 덧셈법칙\n",
    "- 집합이론에서 합집합의 개념\n",
    "- $ P(A \\cup B) = P(A) + P(B) - P(A \\cap B) $\n",
    " - if) A사건과 B사건이 서로 배타적일 때 ( 서로 독립일 때 )\n",
    " - $ P(A \\cup B) = P(A) + P(B) $"
   ]
  },
  {
   "cell_type": "markdown",
   "metadata": {
    "slideshow": {
     "slide_type": "subslide"
    }
   },
   "source": [
    "### 2.7.2. 확률법칙 ( 2 )\n",
    "\n",
    "### 조건부확률\n",
    "- 사건 B가 발생했다는 조건하에서 사건 A가 발생할 확률\n",
    "$$P(A \\vert B) = \\frac{p(A \\cap B)}{p(B)}$$\n",
    "\n",
    "\n",
    "- *조건부확률은 표본공간이 전체사건이 되는 것이 아니라, 새로운 조건이 부여되어 관심대상이 **새로운 표본공간**이 되는 경우에 쓰이는 개념이다.*"
   ]
  },
  {
   "cell_type": "markdown",
   "metadata": {},
   "source": [
    "<br>"
   ]
  },
  {
   "cell_type": "markdown",
   "metadata": {},
   "source": [
    "<br>"
   ]
  },
  {
   "cell_type": "markdown",
   "metadata": {},
   "source": [
    "<br>"
   ]
  },
  {
   "cell_type": "markdown",
   "metadata": {},
   "source": [
    "<br>"
   ]
  },
  {
   "cell_type": "markdown",
   "metadata": {
    "slideshow": {
     "slide_type": "subslide"
    }
   },
   "source": [
    "### 조건부확률 ( 예제 ) - 문제\n",
    "- 패스트캠퍼스 스쿨 수강생 200명 중에서 여자 수강생은 40명이다. 30명이 디지털 마케팅 수강생이며, 이 중 여자 수강생은 10명이다. 다음 조건부 확률을 구해보자.\n",
    "\n",
    "\n",
    "1. 여자 수강생 중에서 디지털 마케팅 수강생의 구성은 어떻게 되는가?\n",
    "2. 디지털 마케팅 수강생 중에서 여자 수강생의 구성은 어떻게 되는가?"
   ]
  },
  {
   "cell_type": "markdown",
   "metadata": {
    "slideshow": {
     "slide_type": "subslide"
    }
   },
   "source": [
    "### 조건부확률 ( 예제 ) - 정답\n",
    "\n",
    "<br><br><br><br><br><br><br><br><br><br><br><br>"
   ]
  },
  {
   "cell_type": "markdown",
   "metadata": {
    "slideshow": {
     "slide_type": "subslide"
    }
   },
   "source": [
    "### 조건부확률 ( 실습 ) - 인구통계 GA 데이터로 조건부확률 구하기"
   ]
  },
  {
   "cell_type": "markdown",
   "metadata": {
    "slideshow": {
     "slide_type": "subslide"
    }
   },
   "source": [
    "### 조건부확률 ( 실습 ) - 1. 목표 설정하기\n",
    "- 성별에 따라 재방문 할 확률은 어떻게 될까?\n",
    "- 성별에 따라 이탈률은 달라질까?\n",
    "- 성별에 따른 모바일 접속자 비율은 어떻게 될까?"
   ]
  },
  {
   "cell_type": "markdown",
   "metadata": {
    "slideshow": {
     "slide_type": "subslide"
    }
   },
   "source": [
    "### 조건부확률 ( 실습 ) - 2. 데이터 수집\n",
    "\n",
    "- GA접속 - 잠재고객 - 인구통계 \n",
    "- 세그먼트 추가 ( 재사용자, 이탈한 세션수, 모바일 트래픽 ) \n",
    "- 내보내기 - Excel(XLSX)\n",
    "- \"DMS실습(2)-조건부확률.xlsx\" 로 함께 실습"
   ]
  },
  {
   "cell_type": "markdown",
   "metadata": {
    "slideshow": {
     "slide_type": "subslide"
    }
   },
   "source": [
    "### 조건부확률 ( 실습 ) - 3. 데이터 탐색 및 확률 구하기\n",
    "- 수업 후 실행한 엑셀 파일 나눠 드릴게요!"
   ]
  },
  {
   "cell_type": "markdown",
   "metadata": {
    "slideshow": {
     "slide_type": "slide"
    }
   },
   "source": [
    "## 수업끝"
   ]
  }
 ],
 "metadata": {
  "kernelspec": {
   "display_name": "Python 3",
   "language": "python",
   "name": "python3"
  },
  "language_info": {
   "codemirror_mode": {
    "name": "ipython",
    "version": 3
   },
   "file_extension": ".py",
   "mimetype": "text/x-python",
   "name": "python",
   "nbconvert_exporter": "python",
   "pygments_lexer": "ipython3",
   "version": "3.5.1"
  }
 },
 "nbformat": 4,
 "nbformat_minor": 1
}
