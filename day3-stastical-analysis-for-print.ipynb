{
 "cells": [
  {
   "cell_type": "markdown",
   "metadata": {
    "slideshow": {
     "slide_type": "slide"
    }
   },
   "source": [
    "  \n",
    "# 마케터를 위한 기초통계\n",
    "- 디지털 마케팅 SCHOOL"
   ]
  },
  {
   "cell_type": "markdown",
   "metadata": {
    "slideshow": {
     "slide_type": "subslide"
    }
   },
   "source": [
    "# Chapter 3. 분석의 기본 단계 (과정) 알기\n",
    "- 통계적 가설검정\n",
    " - 유의수준과 P-value\n",
    "---"
   ]
  },
  {
   "cell_type": "markdown",
   "metadata": {
    "slideshow": {
     "slide_type": "subslide"
    }
   },
   "source": [
    "## 3.3. 통계적 가설검정\n",
    "- 가설검정의 개념\n",
    "- 기본 용어\n",
    " - 귀무가설과 대립가설\n",
    " - 유의수준 ( P-value )\n",
    " - 양측검정과 단측검정\n",
    "- 순서 & 예"
   ]
  },
  {
   "cell_type": "markdown",
   "metadata": {
    "slideshow": {
     "slide_type": "subslide"
    }
   },
   "source": [
    "### 3.3.1. 가설검정의 개념\n",
    "- 통계적 가설검정\n",
    " - 표본에서 얻은 사실을 근거로 하여, 모집단에 대한 가설이 맞는지 틀리는지 통계적으로 검정하는 분석 방법\n",
    " - **가설의 참 / 거짓을 결정짓는 것은 확신(가능성)의 차이**"
   ]
  },
  {
   "cell_type": "markdown",
   "metadata": {
    "slideshow": {
     "slide_type": "subslide"
    }
   },
   "source": [
    "### 3.3.1. 가설검정의 개념 ( 예 )\n",
    "- 어느 초등학교 6학년과 5학년 학생들이 같은 문제를 가지고 시험을 본 결과, 성적의 분포가 아래 그림과 같았다. 6학년 학생들의 평균 성적은 80점이었고, 5학년 학생들의 평균 성적은 60점이었으며, 두 분포는 정규분포를 이룬다고 한다. 어느 교사가 한 학생을 선택하여 학년을 확인하지 않고 그 학생의 점수를 물어보았더니, 시험 성적이 70점이라고 했다. 이때 그 학생은 5학년일까 아니면 6학년일까?\n",
    "\n",
    "<center><img src=\"./img/hypothesis-test1.jpeg\n",
    "\", width=350></center>"
   ]
  },
  {
   "cell_type": "markdown",
   "metadata": {
    "slideshow": {
     "slide_type": "subslide"
    }
   },
   "source": [
    "**( 1 )**\n",
    "- 먼저 교사는 다음과 같은 가설을 세웠다.\n",
    " - \"그 학생은 6학년이다.\"\n",
    "- 교사는 이 가설이 틀릴 경우에 대비하여 다른 가설을 세웠다.\n",
    " - \"그 학생은 5학년이다.\""
   ]
  },
  {
   "cell_type": "markdown",
   "metadata": {},
   "source": [
    "<br>"
   ]
  },
  {
   "cell_type": "markdown",
   "metadata": {
    "slideshow": {
     "slide_type": "subslide"
    }
   },
   "source": [
    "**( 2 )**\n",
    "- 70점을 받은 그 학생이 5학년인지 6학년인지 판단하기 전에, 먼저 몇 점 이상을 6학년으로 보아야 하는지를 결정하여야 한다.\n",
    "- 만약 75점 이상을 6학년으로 간주한다면\n",
    " - 70점을 받은 학생에 대해 \"그 학생은 6학년이다\"라는 가설은 기각 되고,\n",
    " - 대립적으로 설정한 \"그 학생은 5학년이다\"라는 가설이 채택될 것이다.\n",
    " \n",
    "**( 3 )**\n",
    "- 문제는 그 학생이 6학년이다, 또는 5학년이다라고 결론을 내릴 때 오류의 위험이 따르고 있다는 것이다.\n",
    "- 75점 이상이 6학년이다라는 판단기준을 세웠다면\n",
    " - $\\alpha$의 부분만큼은 6학년이면서 5학년이라는 오해를 받을 수 있고,\n",
    " - 반면 $\\beta$ 부분만큼은 5학년이지만 6학년으로 오해 받을 수도 있다."
   ]
  },
  {
   "cell_type": "markdown",
   "metadata": {},
   "source": [
    "<br>"
   ]
  },
  {
   "cell_type": "markdown",
   "metadata": {
    "slideshow": {
     "slide_type": "subslide"
    }
   },
   "source": [
    "### 3.3.2. 기본용어 ( 1 ) - 귀무가설, 대립가설\n",
    "\n",
    "- 귀무가설 ( $H_{0}$ : null hypothesis )\n",
    " - 직접 검정대상이 되는 가설 ( ex. $H_{0} :$ 그 학생은 6학년이다. )\n",
    " \n",
    " \n",
    "- 대립가설 ( $H_{a}$ or $H_{1}$ : alternative hypothesis )\n",
    " - 귀무가설이 기각될 때 받아들여지는 가설 ( ex. $H_{\\alpha} :$ 그 학생은 5학년이다. )"
   ]
  },
  {
   "cell_type": "markdown",
   "metadata": {
    "slideshow": {
     "slide_type": "subslide"
    }
   },
   "source": [
    "### 3.3.2. 기본용어 ( 2 ) - 유의수준 ( Significance level )\n",
    "\n",
    "- 유의수준 ( significance level )\n",
    " - 오류를 감수할 확률 ( 따라서 오류를 범했을 때 손실이 얼만만큼 발생하느냐가 큰 고려요인 )\n",
    " - 유의수준을 얼마로 할 것인가에 대해서는 연구의 성격, 연구자의 주관 등이 개입되게 되므로 어느 연구에나 적용될 수 있는 보편타당한 기준은 없다\n",
    " - 보통 연구에서는 $\\alpha$수준을 $0.01, 0.05, 0.10$ 등으로 정하는 경우가 많다"
   ]
  },
  {
   "cell_type": "markdown",
   "metadata": {
    "slideshow": {
     "slide_type": "subslide"
    }
   },
   "source": [
    "### 3.3.2. 기본용어 ( 3 ) - P-value\n",
    "- 표본에서 계산된 통계량이 가설로 설정된 모집단의 성격과 **현저한(significant)** 차이가 있는 경우에는 모집단에 대해 설정한 귀무가설을 기각하게 된다.\n",
    "\n",
    "<center><img src=\"./img/p-value.png\", width=400></center>"
   ]
  },
  {
   "cell_type": "markdown",
   "metadata": {},
   "source": [
    "<br>"
   ]
  },
  {
   "cell_type": "markdown",
   "metadata": {
    "slideshow": {
     "slide_type": "subslide"
    }
   },
   "source": [
    "### 3.3.2. 기본용어 ( 4 ) - 양측 & 단측검정\n",
    "- 양측검정 ( two-tailed test )\n",
    " - $H_{0}: \\mu = \\mu_{0}$\n",
    " - 표본 통계량이 $\\mu$ 보다 현저히 크거나 작으면 기각\n",
    " - 기각 영역은 확률분포의 양측에 있게 되므로, 유의수준 $\\alpha$도 양쪽 극단으로 갈려 한쪽의 면적이 $\\alpha / 2$가 된다\n",
    " \n",
    "<center><img src=\"./img/hypothesis-test2-two-tail.png\", width=350></center>\n",
    "\n",
    "### 3.3.2. 기본용어 ( 4 ) - 양측 & 단측검정\n",
    "\n",
    "- 단측검정 ( one-tailed test )\n",
    " - $H_{0}: \\mu \\ge \\mu_{0} \\quad or \\quad H_{0}: \\mu \\le \\mu_{0}$\n",
    " - $H_{0}: \\mu \\ge \\mu_{0}$의 경우, 표본 통계량이 $\\mu_{0}$보다 현저히 작으면 기각\n",
    " - 기각 영역은 확률분포의 한쪽 극단에만 존재\n",
    " \n",
    "<center><img src=\"./img/hypothesis-test3-one-tail.png\", width=600></center>"
   ]
  },
  {
   "cell_type": "markdown",
   "metadata": {},
   "source": [
    "<br>"
   ]
  },
  {
   "cell_type": "markdown",
   "metadata": {},
   "source": [
    "<br>"
   ]
  },
  {
   "cell_type": "markdown",
   "metadata": {
    "slideshow": {
     "slide_type": "subslide"
    }
   },
   "source": [
    "### 3.3.3. 가설검정의 순서\n",
    "\n",
    "1. 귀무가설($H_{0}$) 과 대립가설($H_{a}$) 의 설정\n",
    "1. 유의수준($\\alpha$) 의 결정\n",
    "1. 유의수준을 충족시키는 임계값의 결정\n",
    "1. 통계량의 계산과 임계값과의 비교 (p-value 로 비교시 3, 4번 단계 한번에 가능)\n",
    "1. 결과의 해석"
   ]
  },
  {
   "cell_type": "markdown",
   "metadata": {},
   "source": [
    "<br>"
   ]
  },
  {
   "cell_type": "markdown",
   "metadata": {},
   "source": [
    "<br>"
   ]
  },
  {
   "cell_type": "markdown",
   "metadata": {},
   "source": [
    "<br>"
   ]
  },
  {
   "cell_type": "markdown",
   "metadata": {},
   "source": [
    "<br>"
   ]
  },
  {
   "cell_type": "markdown",
   "metadata": {},
   "source": [
    "### 3.3.4. 가설검정 예\n",
    "- 국내 아이돌그룹 멤버들의 평균 키를 알기 위하여, 16명의 아이돌그룹 멤버의 키를 표본조사하였더니 평균 키가 175cm 였다. 국내 아이돌그룹 전체의 평균 키에 대한 표준편차가 5cm 라고 하면, 국내 아이돌그룹 멤버의 평균 키가 180cm 이상이라고 할 수 있을까? 유의수준 $(\\alpha)$ 을 5%로 하여 검정하라."
   ]
  },
  {
   "cell_type": "markdown",
   "metadata": {
    "slideshow": {
     "slide_type": "subslide"
    }
   },
   "source": [
    "① 귀무가설 설정 & ② 유의수준 결정\n",
    "\n",
    "$$\n",
    "\\begin{align}\n",
    "①&\\quad H_{0} : \\mu \\ge 180cm \\\\ \n",
    "&\\quad H_{a} : \\mu < 180cm \\\\\n",
    "②&\\quad \\alpha = 0.05 ( 5\\% ) \\\\\n",
    "\\end{align}\n",
    "$$\n",
    "\n",
    "③ 유의수준을 충족시키는 임계값 결정\n",
    "\n",
    "$$\n",
    "\\begin{align}\n",
    "③&\\quad 채택영역 : Z \\ge -1.64 \\\\\n",
    "&\\quad 기각영역 : Z < -1.64 \\\\\n",
    "\\end{align}\n",
    "$$\n",
    "\n",
    "<center><img src=\"./img/hypothesis-test5.png\", width=250></center>"
   ]
  },
  {
   "cell_type": "markdown",
   "metadata": {
    "slideshow": {
     "slide_type": "subslide"
    }
   },
   "source": [
    "④ 통계량의 계산과 임계값의 비교\n",
    "\n",
    "$$\n",
    "\\begin{align}\n",
    "④& 175cm에 대응하는 Z 값\\\\\n",
    "& Z = \\frac{\\bar{X}-\\mu_{\\bar{X}}}{\\sigma_{\\bar{X}}} = \\frac{175-180}{5/\\sqrt{16}} = \\frac{-5}{1.25} = -4 \\\\\n",
    "& Z = -4 는 -1.64보다 작아서 기각영역에 속하므로 \\\\\n",
    "& H_{0}를 기각한다. \\\\\n",
    "\\end{align}\n",
    "$$\n",
    "\n",
    "<center><img src=\"./img/hypothesis-test4.png\", width=350></center>\n",
    "\n",
    "⑤ 결과의 해석\n",
    "- 위의 결과로부터 국내 아이돌그룹 멤버들의 평균 키가 180cm 이상이라고 할 수 없다."
   ]
  },
  {
   "cell_type": "markdown",
   "metadata": {},
   "source": [
    "<br>"
   ]
  },
  {
   "cell_type": "markdown",
   "metadata": {},
   "source": [
    "<br>"
   ]
  },
  {
   "cell_type": "markdown",
   "metadata": {},
   "source": [
    "<br>"
   ]
  },
  {
   "cell_type": "markdown",
   "metadata": {
    "slideshow": {
     "slide_type": "slide"
    }
   },
   "source": [
    "# Chapter 4. 분석 방법론 (모형) 배우기\n",
    "- A/B Test\n",
    "- 상관분석\n",
    "- 회귀분석\n",
    "---"
   ]
  },
  {
   "cell_type": "markdown",
   "metadata": {
    "slideshow": {
     "slide_type": "subslide"
    }
   },
   "source": [
    "## 4.1. 여러가지 상황에 따른 검정의 종류\n",
    "\n",
    "- 단일 모집단에 대한 검정\n",
    " - 평균에 대하여 vs. 분산에 대하여\n",
    "- 두 모집단에 대한 검정\n",
    " - 평균에 대하여 vs. 짝을 이룬 표본의 평균에 대하여 vs. 분산에 대하여"
   ]
  },
  {
   "cell_type": "markdown",
   "metadata": {
    "slideshow": {
     "slide_type": "subslide"
    }
   },
   "source": [
    "### 4.1.1 단일 모집단에 대한 검정 (평균에 대하여)\n",
    "**예 ( 1 ) - $Z$-test**\n",
    "- 우리나라 여성 전체의 평균 키는 $160cm$ 이고, 분산은 $200$ 이라고 한다. $10,000$명을 표본으로 하여 조사한 결과 평균 $169cm$ 를 얻었다. 우리나라 여성의 평균 키가 $160cm$ 라고 할 수 있을까?\n",
    "\n",
    "- **모집단 평균을 모르기 때문에 가설검정을 하려는 것인데, 모집단 분산을 알고 있다고 가정하는 것은 비현실적**\n",
    "\n",
    "**현실적으로 $t$-test**\n",
    "- 우리나라 여성 전체의 평균 키는 $160cm$ 라고 한다. 이에 대한 가설을 검정하기 위하여 $10,000$명을 표본으로 하여 조사한 결과 평균 $169cm$, 분산 $300$ 을 얻었다. 우리나라 여성의 평균 키가 $160cm$ 라고 할 수 있을까?\n",
    "\n",
    "#### 상황에 따른 $Z$-test 와 $t$-test \n",
    "- **표본의 크기가 크면, 모집단 분산과 표본에서 뽑은 분산 간의 차이가 작기 때문에 $t통계량$을 사용하거나 $Z통계량$을 사용하거나 별 차이가 없다. ( 중심극한정리 )**\n",
    " \n",
    "<center><img src=\"./img/relation-of-z-t-test.png\", width=250></center>"
   ]
  },
  {
   "cell_type": "markdown",
   "metadata": {},
   "source": [
    "#### $Z$-분포 (표준정규분포) vs $t$-분포\n",
    "\n",
    "$$Z-통계량: \\quad Z = \\frac{X-\\mu}{\\sigma}, \\quad\\quad\\quad t-통계량: \\quad \\frac{(\\bar{X} - \\mu_{\\bar{X}})}{S_{\\bar{X}}}, \\quad (S_{\\bar{X}}=\\frac{S}{\\sqrt{n}})$$\n",
    "\n",
    "<table style=\"border:0;\"><tr style=\"border:0;\"><td style=\"border:0;\"><img src=\"http://www.ktword.co.kr/img_data/1995_4.JPG\", align=\"center\", width=130></td><td style=\"border:0;\"><img src=\"http://ci.columbia.edu/ci/premba_test/c0331/images/s7/6317178747.gif\", align=\"center\", width=130></td></tr></table>"
   ]
  },
  {
   "cell_type": "markdown",
   "metadata": {},
   "source": [
    "<br>"
   ]
  },
  {
   "cell_type": "markdown",
   "metadata": {
    "slideshow": {
     "slide_type": "subslide"
    }
   },
   "source": [
    "### 4.1.2. 단일 모집단에 대한 검정 (분산에 대하여)"
   ]
  },
  {
   "cell_type": "markdown",
   "metadata": {
    "slideshow": {
     "slide_type": "subslide"
    }
   },
   "source": [
    "#### 예 ( 2 ) - $\\chi2$-test\n",
    "- 어느 고등학교에서는 고교평준화를 시행한 후 이전보다 학생들의 성적이 고르지 않다는 주장을 하고 있다. 평준화 전의 성적의 분산은 $\\sigma^{2}=60$이라고 하며, 교육과학부에서는 지금도 전과 마찬가지일 것이라는 주장이다. 한 연구자는 교육과학부의 주장을 검정하기 위하여 $61$명을 선택하여 그 표본의 분산을 계산하여 본 결과 $S^{2}=70$이었다. 그 표본이 $\\sigma^{2}=60$인 모집단에서 나온 것이라고 할 수 있는가를 $\\alpha=0.10$에서 검정하려 한다. 고등학교의 성적분포는 정규분포라고 가정한다."
   ]
  },
  {
   "cell_type": "markdown",
   "metadata": {
    "slideshow": {
     "slide_type": "subslide"
    }
   },
   "source": [
    "#### $\\chi2$-분포(chi-square distribution)\n",
    "\n",
    "$$통계량: \\quad \\chi^{2}_{n-1} = \\frac{(n-1) \\cdot S^{2}}{\\sigma^{2}} , \\quad (n-1 = k: 자유도)$$\n",
    "<center><img src=\"https://upload.wikimedia.org/wikipedia/commons/2/21/Chi-square_distributionPDF.png\", width=300></center>"
   ]
  },
  {
   "cell_type": "markdown",
   "metadata": {},
   "source": [
    "<br>"
   ]
  },
  {
   "cell_type": "markdown",
   "metadata": {
    "slideshow": {
     "slide_type": "subslide"
    }
   },
   "source": [
    "####  $\\chi2$-검정 (chi-square test)\n",
    " \n",
    "- 분산에 대한 가설검정도 평균에 대한 가설검정과 마찬가지로, 계산된 통계량이 표집분포에서 채택영역에 속하는지 또는 기각영역에 속하는지를 알아서 귀무가설을 채택, 거부한다.\n",
    "- 만일 표본의 자료에서 계산된 $\\chi2값$이 $\\chi2-분포$의 양끝에 있다면(or 계산된 p-value가 유의수준보다 작다면), 그 표본이 귀무가설에서 설정한 모집단에서 뽑혔다고 볼 수 없을 정도로 예외적이라고 볼 수 있기 때문에 귀무가설을 기각한다.\n",
    "\n",
    "<br>\n",
    "\n",
    "<center><img src=\"http://cfile24.uf.tistory.com/image/270CFE3D548D4F0421B054\", width=500></center> "
   ]
  },
  {
   "cell_type": "markdown",
   "metadata": {},
   "source": [
    "<br>"
   ]
  },
  {
   "cell_type": "markdown",
   "metadata": {},
   "source": [
    "<br>"
   ]
  },
  {
   "cell_type": "markdown",
   "metadata": {},
   "source": [
    "<br>"
   ]
  },
  {
   "cell_type": "markdown",
   "metadata": {
    "slideshow": {
     "slide_type": "subslide"
    }
   },
   "source": [
    "### 4.1.3. 두 모집단에 대한 검정 (평균에 대하여 - 평균의 차이 : $\\bar{X}_{1} - \\bar{X}_{2}$ ))"
   ]
  },
  {
   "cell_type": "markdown",
   "metadata": {
    "slideshow": {
     "slide_type": "subslide"
    }
   },
   "source": [
    "#### 예 ( 3 ) - $Z$-test or $t$-test\n",
    "- 어느 고등학교에서 사교육의 효과여부를 알아보기 위해 사교육을 받고 있는 학생들 중에서 50명의 수학점수를 알아보았더니 평균 85점, 표준편차 5점이었고, 사교육을 받고 있지 않은 학생들 중에서 64명을 뽑아 수학점수를 알아보았더니 평균 80점, 표준편차 8점이었다. 사교육을 받고 있는 학생들의 수학점수가 더 좋다는 가설을 $\\alpha=0.05$ 의 유의수준에서 검정하라. ( 두 모집단의 표준편차는 같다고 가정한다 )"
   ]
  },
  {
   "cell_type": "markdown",
   "metadata": {},
   "source": [
    "<br>"
   ]
  },
  {
   "cell_type": "markdown",
   "metadata": {
    "slideshow": {
     "slide_type": "subslide"
    }
   },
   "source": [
    "### 4.1.4. 두 모집단에 대한 검정 (짝을 이룬 표본에 대하여)\n",
    "- 서로 다른 두 개의 모집단에서 뽑는 것이 아닌, 하나의 모집단으로부터 표본을 뽑은 후 그 표본으로부터 쌍으로 된 관찰값들 ( paired sample )을 뽑아 이들 간 차이에 대한 가설검정"
   ]
  },
  {
   "cell_type": "markdown",
   "metadata": {
    "slideshow": {
     "slide_type": "subslide"
    }
   },
   "source": [
    "#### 예 ( 4 ) - $t$-test\n",
    "- 어느 회사에서 직업훈련이 근로자의 능률향상에 효과가 있는지를 알고 싶다고 하자. 이를 위해 16명의 근로자를 뽑아서 직업훈련을 하기 전과 후의 작업능률의 점수를 알아보았더니 다음 표와 같았다. 이 조사결과로써 훈련전과 훈련후의 능률이 같다고 할 수 있을까? 모집단에서의 차이의 분포는 정규분포라 가정한다.\n",
    "\n",
    "<center><img src=\"./img/table6.png\", width=300></center>"
   ]
  },
  {
   "cell_type": "markdown",
   "metadata": {},
   "source": [
    "<br>"
   ]
  },
  {
   "cell_type": "markdown",
   "metadata": {},
   "source": [
    "<br>"
   ]
  },
  {
   "cell_type": "markdown",
   "metadata": {},
   "source": [
    "<br>"
   ]
  },
  {
   "cell_type": "markdown",
   "metadata": {},
   "source": [
    "<br>"
   ]
  },
  {
   "cell_type": "markdown",
   "metadata": {
    "slideshow": {
     "slide_type": "subslide"
    }
   },
   "source": [
    "### 4.1.5. 두 모집단에 대한 검정 (분산에 대하여)"
   ]
  },
  {
   "cell_type": "markdown",
   "metadata": {
    "slideshow": {
     "slide_type": "subslide"
    }
   },
   "source": [
    "#### 예 ( 5 ) - $F$-test\n",
    "- 어느 음료수공장에서는 오란C와 오란D를 생산하고 있다. 오란C공장은 오란D공장보다 품질관리를 더 잘하고 있다고 주장하고 있는데, 이를 검정하기 위하여 오란C 10병과 오란D 10병을 추출하여 용량의 분산을 조사하였더니 각각 18, 20이었다. 두 공장에서 생산되는 음료수의 용량은 정규분포를 이룬다고 가정할 때, 과연 오란C공장의 주장이 옳은지를 $\\alpha=0.05$ 에서 검정하라.\n",
    "\n",
    "#### $F$-분포 ( $F$-distribution )\n",
    "\n",
    "$$통계량: \\quad F(n_1-1, n_2-1) = \\frac{\\chi^2_1 / (n_1-1)}{\\chi^2_2 / (n_2-1)} = \\frac{S^2_1}{S^2_2} $$\n",
    "\n",
    "<center><img src=\"https://upload.wikimedia.org/wikipedia/commons/thumb/7/74/F-distribution_pdf.svg/800px-F-distribution_pdf.svg.png\", width=250></center>\n",
    "\n",
    "#### $F$-검정 ( $F$-test )\n",
    "\n",
    "- $F$ 값은 두 분산의 비율로써 계산 되기 때문에, $S^2_1$과 $S^2_2$이 비슷하면 $F=1$에 가까워진다.\n",
    "- 그러나 두 표본의 분산으로부터 계산된 $F$값이 $F-분포표$의 임계값보다 매우 크다면(or 계산된 p-value가 유의수준보다 작다면), 이 표본들은 분산 $\\sigma^2$이 서로 다른 모집단에서 뽑혔다고 할 수 있다.\n",
    "\n",
    "<center><img src=\"./img/f-test.png\", width=280></center>"
   ]
  },
  {
   "cell_type": "markdown",
   "metadata": {
    "slideshow": {
     "slide_type": "subslide"
    }
   },
   "source": [
    "### A/B test 실습\n",
    "- \"DMS실습(3)-A/B테스트.xlsx\"\n",
    "- 수업 후 실행한 엑셀 파일 나눠 드릴게요!"
   ]
  },
  {
   "cell_type": "markdown",
   "metadata": {},
   "source": [
    "<br>"
   ]
  },
  {
   "cell_type": "markdown",
   "metadata": {},
   "source": [
    "<br>"
   ]
  },
  {
   "cell_type": "markdown",
   "metadata": {},
   "source": [
    "<br>"
   ]
  },
  {
   "cell_type": "markdown",
   "metadata": {},
   "source": [
    "<br>"
   ]
  },
  {
   "cell_type": "markdown",
   "metadata": {},
   "source": [
    "<br>"
   ]
  },
  {
   "cell_type": "markdown",
   "metadata": {
    "slideshow": {
     "slide_type": "subslide"
    }
   },
   "source": [
    "## 4.3. 상관분석과 회귀분석\n",
    "- 들어가며\n",
    "- 산포도 ( Scatter Plot )\n",
    "- 상관분석\n",
    "- 회귀분석"
   ]
  },
  {
   "cell_type": "markdown",
   "metadata": {
    "slideshow": {
     "slide_type": "subslide"
    }
   },
   "source": [
    "### 4.3.1. 들어가며\n",
    "- **상관분석**은 두 변수 간의 관계의 강도, 즉 얼마나 밀접하게 관련되어 있는지를 분석하는 것을 말한다.\n",
    "- 그러나 때로는 관련성뿐만 아니라 독립변수에 따라 종속변수가 어떻게 변화하는가를 예측하기 원할 때가 있다. \n",
    "- **회귀분석**에서는 독립변수의 일정한 값에 대응되는 종속변수의 값을 예측하기 위하여 회귀방정식을 구한다.\n",
    "- 상관분석에 의해 상관계수를 계산하고, 만일 상관계수가 높다면 두 변수 간의 관계를 회귀방정식으로 나타낸다. 따라서 회귀분석을 상관분석과 함께 사용한다면 변수들 간의 관련성에 대한 다양한 정보를 구할 수 있다."
   ]
  },
  {
   "cell_type": "markdown",
   "metadata": {
    "slideshow": {
     "slide_type": "subslide"
    }
   },
   "source": [
    "### 4.3.2. 산포도 ( Scatter Plot )\n",
    "- 두 변수 간 관련성을 분석할 때는 먼저 산포도를 그려보는 것이 좋다.\n",
    " - 산포도를 통해 그 자료가 상관분석이나 회귀분석을 할 만한 자료인지 아닌지를 알 수 있다.\n",
    " - 만일 분석할 만한 자료가 되지 못한다는 것을 알게 되면 시간과 노력의 낭비를 줄여줌"
   ]
  },
  {
   "cell_type": "markdown",
   "metadata": {
    "slideshow": {
     "slide_type": "subslide"
    }
   },
   "source": [
    "ex. 어느 조립공장에서는 기능공들의 기술훈련을 자체적으로 실시하고 있는데, 훈련시간이 늘어남에 따라 숙련도가 얼마나 향상되는지를 알아보려고 한다. 훈련시간별로 임의로 1명씩을 표본으로 뽑아 그들의 하루 생산성을 조사하여 다음과 같은 결과를 얻었다.\n",
    "\n",
    "<center><img src=\"./img/scatter-plot.png\", width=400></center>\n",
    "\n",
    "- scatter plot 을 보면 훈련시간이 늘어남에 따라 생산성도 높아지고 있음을 쉽게 볼 수 있다. 따라서 훈련시간과 생산성 사이에 밀접한 관계가 있음을 알 수 있다.\n",
    "- 이처럼 scaater plot 만으로도 두 변수 간의 관계를 대략적으로 파악할 수 있다.\n",
    "- 그러나 두 변수의관계를 정확히 파악하기 위해서는 두 변수간의 관련성의 정도를 계수(correlation coefficient)로 알아보는 상관분석,\n",
    "- 두 변수 간의 함수적 관련성을 나타내는 회귀식(regression equation) 또는 예측식을 구하는 회귀분석을 해야 한다."
   ]
  },
  {
   "cell_type": "markdown",
   "metadata": {},
   "source": [
    "<br>"
   ]
  },
  {
   "cell_type": "markdown",
   "metadata": {},
   "source": [
    "<br>"
   ]
  },
  {
   "cell_type": "markdown",
   "metadata": {},
   "source": [
    "<br>"
   ]
  },
  {
   "cell_type": "markdown",
   "metadata": {},
   "source": [
    "<br>"
   ]
  },
  {
   "cell_type": "markdown",
   "metadata": {
    "slideshow": {
     "slide_type": "subslide"
    }
   },
   "source": [
    "### 4.3.3. 상관분석 - 공분산\n",
    "- 상관분석을 하기 위해서는 먼저 공분산(covariance)에 대해 알아야 할 필요가 있다.\n",
    " - 상관분석이란 두 변수가 어떻게 함께 움직이는가를 알아 보는 것\n",
    " - 공분산 역시 두 변수가 동시에 변하는 정도를 나타냄\n",
    " \n",
    "$$\n",
    "\\begin{align}\n",
    "모집단 &\\quad \\sigma_{XY}^2 = \\frac{\\sum(X_i-\\mu_X)(Y_i-\\mu_Y)}{n} \\\\\n",
    "표 본 &\\quad S_{XY}^2 = \\frac{\\sum(X_i-\\bar{X})(Y_i-\\bar{Y})}{n-1} \\\\\n",
    "\\end{align}\n",
    "$$"
   ]
  },
  {
   "cell_type": "markdown",
   "metadata": {
    "slideshow": {
     "slide_type": "subslide"
    }
   },
   "source": [
    "### 4.3.3. 상관분석 - 공분산의 한계\n",
    "\n",
    "- $X$ 변수가 증가할 때 $Y$ 변수가 증가하면, 즉 두 변수가 같은 방향으로 변화하면 공분산의 수치는 $+$ 가 된다.\n",
    "- 만일 두 변수가 변화하는 방향이 서로 다르다면 공분산은 $-$ 의 부호를 가진다.\n",
    "<center><img src=\"./img/covariance.png\", width=130></center>\n",
    "\n",
    "- 이렇듯 공분산은 두 변수 간의 관계를 말해주지만, 두 변수의 측정단위에 따라서 커다란 차이가 나는 문제점이 있어 상대적인 강도를 나타내는 좋은 지표가 되지 못한다.\n",
    " - 예를 들어 변수를 센티미터(cm)로 표시되는 경우보다 미터(m)로 표시되는 경우 공분산의 절대값은 훨씬 작아진다."
   ]
  },
  {
   "cell_type": "markdown",
   "metadata": {
    "slideshow": {
     "slide_type": "subslide"
    }
   },
   "source": [
    "### 4.3.3. 상관분석 - 상관계수 ( $r$ : correlation coefficient )\n",
    "\n",
    "- 피어슨(K. Pearson, 1857~1936)이 제시한 상관계수 $r$ 은 정규분포를 따르는 두 변수 $X$ 와 $Y$ 가 일직선이라는 선형성을 가정한다.\n",
    "- $r_{XY}$ 는 두 변수의 공분산 ($S_{XY}^2$) 을 각 변수의 표준편차인 $S_X$ 와 $S_Y$ 의 곱으로 나누어 상관계수를 구한다.\n",
    " - 이로인해 상관계수는 $ -1.0 \\le r \\le 1.0$ 의 범위에 있게 된다.\n",
    "- 어떠한 단위의 측정값을 사용하여도 상관성에 대한 비교와 해석이 용이\n",
    "\n",
    "$$\n",
    "\\begin{align}\n",
    "모집단 &\\quad \\rho_{XY} = \\frac{\\sigma_{XY}^2}{\\sigma_X \\sigma_Y} \\\\\n",
    "표 본 &\\quad r_{XY} = \\frac{S_{XY}^2}{S_X S_Y} \\\\\n",
    "\\end{align}\n",
    "$$"
   ]
  },
  {
   "cell_type": "markdown",
   "metadata": {
    "slideshow": {
     "slide_type": "subslide"
    }
   },
   "source": [
    "- $r = +1$ : 완전한 선형관계 ( 완전한 선형관계를 가질 때 공분산 $S_{XY}$ 의 값은 $S_X$ 와 $S_Y$ 를 곱한 값과 같으므로 )\n",
    "- $r = -1$ : 완전한 음의 선형관계\n",
    "- 분포가 원모양, 곡선의 모양 등의 경우 상관계수가 낮거나 관계가 없는 것처럼 보인다.\n",
    "   - 이는 피어슨 상관계수는 두 변수 간의 관계가 선형적이라는 가정하에 전개된 계수이기 때문\n",
    " \n",
    "<center><img src=\"https://upload.wikimedia.org/wikipedia/commons/thumb/d/d4/Correlation_examples2.svg/506px-Correlation_examples2.svg.png\", width=250></center>"
   ]
  },
  {
   "cell_type": "markdown",
   "metadata": {},
   "source": [
    "<br>"
   ]
  },
  {
   "cell_type": "markdown",
   "metadata": {
    "slideshow": {
     "slide_type": "subslide"
    }
   },
   "source": [
    "### 4.3.4. 회귀분석 - 개념\n",
    "\n",
    "- 위에서 보았던 조립공장의 생산성 예를 다시 보자\n",
    "- 아래의 산포도를 표현할 수 있는 직선을 찾으면 어떻게 될까?\n",
    "\n",
    "<center><img src=\"./img/scatter-plot.png\", width=300></center>\n",
    "\n",
    "**직선 = 함수 = 인과관계**\n",
    "<center><img src=\"./img/scatter-plot2.png\", width=300></center>\n",
    "\n",
    "- 회귀분석의 목적\n",
    " - **회귀분석은 함수적 관계로 알고 있는 두 변수의 관계를 자료를 통해 확인해 보는 것 ( 인과관계 파악 )**\n",
    " - **한 변수를 기초로 하여 다른 변수를 예측하는 것 ( 예측 )**"
   ]
  },
  {
   "cell_type": "markdown",
   "metadata": {
    "slideshow": {
     "slide_type": "subslide"
    }
   },
   "source": [
    "### 4.3.4. 회귀분석 - 회귀모형과 회귀식\n",
    "- 독립변수와 종속변수 간의 1차함수관계 또는 선형관계를 가정할 때 회귀모형은 다음 두 요소를 결합한 형태로 나타낼 수 있다.\n",
    " - 확정적 함수관계를 나타내는 부분 : $a + b X_i$\n",
    " - 확률적 오차항 : $e_i$\n",
    " \n",
    "$$\n",
    "\\begin{align}\n",
    "단순회귀모형 \\quad & Y_i = a + b X_i + e_i \\\\\n",
    "단순회귀식 \\quad & \\hat{Y_i} = a + b X_i \\\\\n",
    "\\end{align}\n",
    "$$\n",
    "\n",
    "<center><img src=\"./img/scatter-plot3.png\", width=300></center>"
   ]
  },
  {
   "cell_type": "markdown",
   "metadata": {
    "slideshow": {
     "slide_type": "subslide"
    }
   },
   "source": [
    "- $a, b$ : 회귀계수 ( regression coefficient )\n",
    " - 회귀식을 보면 절편을 $a$ 로 하고 기울기가 $b$ 인 직선이 됨을 알 수 있다.\n",
    "\n",
    "- $\\hat{Y_i}$ : 회귀식을 통해 구해지는 수치 ( 예측값 )\n",
    "- $e_i$ : 예측오차, 추정오차 또는 잔차(residual)\n",
    "$$e_i = Y_i - \\hat{Y_i}$$"
   ]
  },
  {
   "cell_type": "markdown",
   "metadata": {},
   "source": [
    "<br>"
   ]
  },
  {
   "cell_type": "markdown",
   "metadata": {
    "slideshow": {
     "slide_type": "subslide"
    }
   },
   "source": [
    "### 그렇다면 아래 3가지 직선 중에 어떤 직선이 가장 적절한 회귀직선일까?\n",
    "\n",
    "<br>\n",
    "<center><img src=\"./img/scatter-plot4.png\", width=400></center>"
   ]
  },
  {
   "cell_type": "markdown",
   "metadata": {
    "slideshow": {
     "slide_type": "subslide"
    }
   },
   "source": [
    "### 4.3.4. 회귀분석 - 최소제곱법\n",
    "- 최소제곱법 ( method of least squares ) : 잔차의 제곱합이 최소가 되도록 모수를 추정하는 방법\n",
    "- 회귀식을 결정하는 가장 좋은 방법\n",
    "- 다른 방법에 의해 구한 회귀식보다 통계학적으로 그 성질이 우수한 $\\alpha, \\beta$ 의 추정값을 얻을 수 있다.\n",
    " - 통계학적으로 우수하다는 것은 표본에서 통계값을 구할 때 그 통계값이 모집단의 모수를 가장 잘 설명하는 추정값이라는 것을 의미\n",
    "\n",
    "$$min \\sum e_i^2 = min \\sum(Y_i-\\hat{Y_i})^2$$"
   ]
  },
  {
   "cell_type": "markdown",
   "metadata": {
    "slideshow": {
     "slide_type": "subslide"
    }
   },
   "source": [
    "### 4.3.4. 회귀분석 - 최소제곱법에 의한 추정량 ( ordinary least square estimator )\n",
    "- $\\hat{Y_i}$ 은 회귀모형의 종속변수에 대한 추정값으로서 다음과 같다.\n",
    "$$\\hat{Y_i} = a + b X_i$$\n",
    "\n",
    "\n",
    "- 최소제곱법 식에 대입하면 다음과 같다.\n",
    "$$min \\sum e_i^2 = min \\sum(Y_i-a-bX_i)^2$$\n",
    "\n",
    "\n",
    "- 잔차제곱합 ( $\\sum e_i^2$ ) 을 최소로 하는 $a, b$ 를 찾기 위해 $a, b$ 에 대해 각각 편미분 하면 다음과 같다.\n",
    "$$\n",
    "\\begin{align}\n",
    "&\\sum Y_i = na + b\\sum X_i \\\\\n",
    "&\\sum X_i Y_i = a \\sum X_i + b \\sum X_i^2\\\\\n",
    "\\end{align}\n",
    "$$\n",
    "\n",
    "- 위 두 식을 충족시키는 표본의 회귀계수 $a$ 와 $b$ 는 다음과 같다.\n",
    "$$\n",
    "\\begin{align}\n",
    "& b = \\frac{n \\sum X_i Y_i - \\sum X_i \\sum Y_i}{n \\sum X_i^2 - (\\sum X_i)^2} = \\frac{\\sum X_i Y_i - n \\bar{X}\\bar{Y}}{\\sum X_i^2 - n \\bar{X}^2} \\\\\n",
    "&a = \\bar{Y} - b \\bar{X}\n",
    "\\end{align}\n",
    "$$"
   ]
  },
  {
   "cell_type": "markdown",
   "metadata": {},
   "source": [
    "<br>"
   ]
  },
  {
   "cell_type": "markdown",
   "metadata": {
    "slideshow": {
     "slide_type": "subslide"
    }
   },
   "source": [
    "### Scatter Plot과 상관분석 그리고 회귀분석 실습\n",
    "- \"DMS실습(5)-상관분석과 회귀분석.xlsx\" - \"조립공장예제 Sheet\"\n",
    "- 수업 후 실행한 엑셀 파일 나눠 드릴게요!"
   ]
  },
  {
   "cell_type": "markdown",
   "metadata": {},
   "source": [
    "<br>"
   ]
  },
  {
   "cell_type": "markdown",
   "metadata": {},
   "source": [
    "<br>"
   ]
  },
  {
   "cell_type": "markdown",
   "metadata": {
    "slideshow": {
     "slide_type": "subslide"
    }
   },
   "source": [
    "### Q1 - 그렇다면 도출한 회귀식이 몇점짜리 분석인지 어떻게 알까?\n",
    "- 결정계수 : $r^2$"
   ]
  },
  {
   "cell_type": "markdown",
   "metadata": {
    "slideshow": {
     "slide_type": "subslide"
    }
   },
   "source": [
    "### 4.3.4. 회귀분석 - 편차와 제곱합\n",
    "\n",
    "<br>\n",
    "<center><img src=\"https://github.com/JKeun/study-of-statistics-basic/blob/develop/%20img/regression-deviations.png?raw=true\", width=400></center>\n",
    "\n",
    "- 총편차 ( total deviation ) = 설명 안 된 편차 ( unexplained deviation ) + 설명된 편차 ( explained deviation )\n",
    "\n",
    "$$(Y_i - \\bar{Y}) = (Y_i - \\hat{Y_i}) + (\\hat{Y_i} - \\bar{Y})$$\n",
    "<br />"
   ]
  },
  {
   "cell_type": "markdown",
   "metadata": {
    "slideshow": {
     "slide_type": "subslide"
    }
   },
   "source": [
    "- 총제곱합 ( total sum of squares ) = 오차제곱합 ( sum of squares error ) + 회귀제곱합 ( sum of squares regression )\n",
    "\n",
    "$$\n",
    "\\begin{align}\n",
    "SST &= SSE + SSR \\\\\n",
    "\\sum(Y_i - \\bar{Y})^2 &= \\sum(Y_i - \\hat{Y_i})^2 + \\sum(\\hat{Y_i} - \\bar{Y})^2\n",
    "\\end{align}\n",
    "$$"
   ]
  },
  {
   "cell_type": "markdown",
   "metadata": {
    "slideshow": {
     "slide_type": "subslide"
    }
   },
   "source": [
    "### 4.3.4. 회귀분석 - 결정계수 ( $r^2$ )\n",
    "- 표본회귀식의 적합도를 어느 경우에나 일률적으로 나타내줄 수 있는 방법으로서 가장 많이 사용됨\n",
    "- 결정계수는 표본회귀식에 의하여 설명된 제곱합이 총제곱합에서 차지하는 상대적 크기를 나타내는 것으로서, $r^2$ 으로 표시\n",
    "- $r^2 = 1$ : 모든 관찰자료가 표본회귀식으로 완전히 설명되는 경우 $(\\because SSE = \\sum e^2 = 0 )$\n",
    "- $r^2 = 0$ : 종속변수가 독립변수의 1차식으로는 전혀 설명이 되지 못함을 의미\n",
    "\n",
    "$$\n",
    "\\begin{align}\n",
    "결정계수 &= \\frac{회귀제곱합}{총제곱합} = 1 - \\frac{오차제곱합}{총제곱합} \\\\\n",
    "r^2 &= \\frac{SSR}{SST} = 1 - \\frac{SSE}{SST}\n",
    "\\end{align}\n",
    "$$"
   ]
  },
  {
   "cell_type": "markdown",
   "metadata": {},
   "source": [
    "<br>"
   ]
  },
  {
   "cell_type": "markdown",
   "metadata": {},
   "source": [
    "<br>"
   ]
  },
  {
   "cell_type": "markdown",
   "metadata": {},
   "source": [
    "<br>"
   ]
  },
  {
   "cell_type": "markdown",
   "metadata": {},
   "source": [
    "<br>"
   ]
  },
  {
   "cell_type": "markdown",
   "metadata": {},
   "source": [
    "<br>"
   ]
  },
  {
   "cell_type": "markdown",
   "metadata": {
    "slideshow": {
     "slide_type": "subslide"
    }
   },
   "source": [
    "### Q2 - 도출한 회귀식이 적절한지 어떻게 판단할까?\n",
    "- Test ( 검정 )"
   ]
  },
  {
   "cell_type": "markdown",
   "metadata": {
    "slideshow": {
     "slide_type": "subslide"
    }
   },
   "source": [
    "### 4.3.4. 회귀분석 - 단순회귀모형에 대한 $F-검정$\n",
    "- 회귀식이 표본자료를 잘 설명하고 있다면 설명된 제곱합 $SSR$은 설명 안 된 제곱합 $SSE$에 비해 상대적으로 클 것!\n",
    "\n",
    "$$\n",
    "\\begin{align}\n",
    "제곱합 \\quad &SST = SSE + SSR \\\\\n",
    "자유도 \\quad &n-1 = (n-2) + (1) \\\\\n",
    "\\end{align}\n",
    "$$\n",
    "\n",
    "- **단순회귀분석에서 $F-검정식$**\n",
    "$$F_{1, n-2} = \\frac{SSR/1}{SSE/(n-2)} = \\frac{MSR}{MSE} $$"
   ]
  },
  {
   "cell_type": "markdown",
   "metadata": {
    "slideshow": {
     "slide_type": "subslide"
    }
   },
   "source": [
    "### 4.3.4. 회귀분석 - $\\beta$ 에 대한 $t-검정$\n",
    "- 회귀선의 기울기를 나타내는 $\\beta$ 가 $0$ 라는 것은(= 통계적으로 유의하지 않다는 것은) 회귀모형이 성립되지 않는다는 것을 의미 !\n",
    " - 절편인 $\\alpha$ 는 상수이므로 $X$ 의 변화에 따라 $Y$ 가 어떻게 변화하는지에 대해 알려주는 것이 없다.\n",
    " - 모수 $\\beta$ 에 대한 가설검정은 표본회귀식에서 구한 기울기 $b$ 를 이용해서 모집단 회귀식의 $\\beta$ 에 대한 가설 검정을 하는 것\n",
    "\n",
    "- **귀무가설**\n",
    "$$H_0 : \\beta = 0$$\n",
    "$$H_1 : \\beta \\ne 0$$\n",
    "\n",
    "- **$\\beta = 0$ 을 검정하는 $t-통계량$**\n",
    "\n",
    "$$t = \\frac{b - 0}{S_b} = \\frac{b}{S_b} $$"
   ]
  },
  {
   "cell_type": "markdown",
   "metadata": {
    "slideshow": {
     "slide_type": "subslide"
    }
   },
   "source": [
    "### Scatter Plot과 상관분석 그리고 회귀분석 실습\n",
    "- \"DMS실습(4)-상관분석과 회귀분석.xlsx\" - \"조립공장예제 Sheet\", \"Analysis Sheet\"\n",
    " - 데이터 탐색 : https://goo.gl/s956uL\n",
    "- \"DMS실습(5)-다중선형회귀분석\"\n",
    "- 수업 후 실행한 엑셀 파일 나눠 드릴게요!"
   ]
  },
  {
   "cell_type": "markdown",
   "metadata": {
    "slideshow": {
     "slide_type": "subslide"
    }
   },
   "source": [
    "# 수업끝"
   ]
  },
  {
   "cell_type": "markdown",
   "metadata": {},
   "source": [
    "<br>"
   ]
  },
  {
   "cell_type": "markdown",
   "metadata": {
    "slideshow": {
     "slide_type": "subslide"
    }
   },
   "source": [
    "---"
   ]
  },
  {
   "cell_type": "markdown",
   "metadata": {},
   "source": [
    "<br>"
   ]
  },
  {
   "cell_type": "markdown",
   "metadata": {},
   "source": [
    "<br>"
   ]
  },
  {
   "cell_type": "markdown",
   "metadata": {},
   "source": [
    "<br>"
   ]
  },
  {
   "cell_type": "markdown",
   "metadata": {
    "slideshow": {
     "slide_type": "subslide"
    }
   },
   "source": [
    "### 번외 - 가설검정의 오류에 대하여\n",
    "- $\\alpha-오류$\n",
    " - 제1종오류 ( type I error )\n",
    " - 실제로는 귀무가설이 옳은데도 검정 결과 귀무가설을 기각하는 오류\n",
    "- $\\beta-오류$\n",
    " - 제2종오류 ( type II error )\n",
    " - 실제로는 귀무가설이 틀렸는데도 검정 결과 귀무가설이 옳은 것으로 받아들이는 오류\n",
    " \n",
    "<img src=\"http://images.grasshopper.com/type1type2error.fw_.png\" align=\"left\" width=300>\n",
    "<img src=\"http://allpsych.com/wp-content/uploads/2014/08/type1and2error.gif\" align=\"right\" width=250>"
   ]
  },
  {
   "cell_type": "markdown",
   "metadata": {
    "slideshow": {
     "slide_type": "subslide"
    }
   },
   "source": [
    "**$\\alpha-오류$ 와 $\\beta-오류$ 의 관계**\n",
    "- $1-\\alpha$와 $1-\\beta$ 를 둘다 크게 할 수록 옳은 결정을 할 가능성이 높아지므로 BEST!!\n",
    "- BUT!!, 임계값(critical value)를 어떻게 설정하는가에 따라서 $\\alpha$와 $\\beta$는 Trade off 관계\n",
    "- 따라서, $1-\\alpha$와 $1-\\beta$를 동시에 크게 하는 것은 불가능"
   ]
  },
  {
   "cell_type": "markdown",
   "metadata": {
    "slideshow": {
     "slide_type": "subslide"
    }
   },
   "source": [
    "**현실적으로**\n",
    "- 따라서 가설의 채택여부가 실제로 미치는 영향을 감안하여,\n",
    "- 더 중요하다고 판단되는 가설채택에 따른 오류의 확률을 미리 지정된 값 이하로 주는 검정방법을 찾는게 현실적"
   ]
  },
  {
   "cell_type": "markdown",
   "metadata": {
    "slideshow": {
     "slide_type": "subslide"
    }
   },
   "source": [
    "**연구자의 관심대상이 되는 오류는 ?**\n",
    "- **$\\alpha-오류$**, 이 때문에 **제1종오류**라 부르는 것\n",
    "- WHY??, 일반적으로 $\\alpha-오류$가 $\\beta-오류$에 비해 훨씬 더 심각한 손실이나 비용을 발생시키기 때문\n",
    " - **그러나 이 또한 case by case 이다. 상황에 따라 리스크는 다름 !! -> <font color=\"blue\">뒤에서 예제를 통해 설명**\n",
    "- 따라서 중요한 $\\alpha-오류$를 미리 1% 또는 5% 정도의 매우 작은 값으로 제한시킬 필요가 있는데, 이는 곧 앞에서 배운 유의수준과 동일한 개념"
   ]
  },
  {
   "cell_type": "markdown",
   "metadata": {
    "slideshow": {
     "slide_type": "subslide"
    }
   },
   "source": [
    "**따라서 가장 현실적이면서 좋은 통계적 검정법이란 ?**\n",
    "- **주어진 유의수준($\\alpha$)을 만족하면서 제2종오류($\\beta$)의 가능성을 최소로 하는 것이다.**\n",
    " - 연구자의 입장에서 보면 귀무가설이 맞을 때 받아들이는 것은, 새로운 연구결과를 얻지 못하게 되는 것이므로(무의미한 것이므로)\n",
    " - 귀무가설이 거부되어야 할 때 거부되는 옳은 결정, 즉 $1-\\beta$가 커지도록 하는 것이 바람직\n",
    "- 통계학에서는 $1-\\beta$를 통계적 검정력 ( statistical power ) 이라 부른다"
   ]
  },
  {
   "cell_type": "markdown",
   "metadata": {},
   "source": [
    "<br>"
   ]
  },
  {
   "cell_type": "markdown",
   "metadata": {},
   "source": [
    "<br>"
   ]
  },
  {
   "cell_type": "markdown",
   "metadata": {},
   "source": [
    "<br>"
   ]
  },
  {
   "cell_type": "markdown",
   "metadata": {
    "slideshow": {
     "slide_type": "subslide"
    }
   },
   "source": [
    "### 검정오류의 예제\n",
    "**들어가기 앞서 - 귀무가설( null hypothesis )을 선언하는 방법**<br />\n",
    "The test requires an unambiguous statement of a null hypothesis, which usually corresponds to a default \"state of nature\", for example \"this person is healthy\", \"this accused is not guilty\" or \"this product is not broken\".<br />\n",
    "( 검정에 있어서 귀무가설은 명백하여야 한다. 예를 들어 \"이 사람은 건강하다\", \"이 사람은 무죄다\", \"이 제품은 정상이다.(부서지지 않았다)\" 와 같이 자연적으로 0인 상태(default 상태) 로 선언해야 한다. )\n",
    "\n",
    "<center><img src=\"http://cfile4.uf.tistory.com/image/2749313F524A1BB411F5A2\", width=500></center>"
   ]
  },
  {
   "cell_type": "markdown",
   "metadata": {
    "slideshow": {
     "slide_type": "subslide"
    }
   },
   "source": [
    "#### 예제 1\n",
    "\n",
    "- $H_{0}$ : A라는 사람은 무죄다.\n",
    "- $H_{1}$ : A라는 사람은 유죄다.\n",
    "\n",
    "|~| 실제 $H_{0}$이 참인 경우 | 실제 $H_{0}$이 거짓인 경우  |\n",
    "|:---:|:---:|:---:|\n",
    "|$H_{0}$ 기각| $\\alpha$ <br /> <font color=\"red\"> A가 무죄인데 유죄라 잘못 판단<br /> ( high risk ) | $1-\\beta$ <br /> <font color=\"blue\">A가 유죄인데 유죄라고 옳게 판단<br /> ( 연구성과있음 ) |\n",
    "|$H_{0}$ 채택| $1-\\alpha$ <br /> A가 무죄인데 무죄라고 옳게 판단<br /> ( 연구성과없음 ) | $\\beta$ <br /> A가 유죄인데 무죄라 판단<br /> ( row risk ) |\n",
    "\n",
    "- 이 경우 $\\alpha-오류$로 인해 발생되는 위험이 critical 함\n",
    "- 따라서 유의수준 $\\alpha$ 를 0.01 정도로 하여(신뢰구간 99%) $\\alpha-오류$ 를 줄인다. ( 최대한 자비롭게 판결을 내린다. )\n",
    "- 이렇게 될 경우, $1-\\beta$ 는 자연스레 낮아지게 되어 진짜 범죄자를 잡을 확률 또한 낮아지게 된다."
   ]
  },
  {
   "cell_type": "markdown",
   "metadata": {
    "slideshow": {
     "slide_type": "subslide"
    }
   },
   "source": [
    "#### 예제 2\n",
    "\n",
    "- $H_{0}$ : 이 비행기는 결함이 없다.\n",
    "- $H_{1}$ : 이 비행기는 결함이 있다.\n",
    "\n",
    "|~| 실제 $H_{0}$이 참인 경우 | 실제 $H_{0}$이 거짓인 경우  |\n",
    "|:---:|:---:|:---:|\n",
    "|$H_{0}$ 기각| $\\alpha$ <br /> 비행기에 결함이 없는데 있다고 잘못 판단<br /> ( row risk ) | $1-\\beta$ <br /> <font color=\"blue\"> 비행기에 결함이 있는데 있다고 옳게 판단<br /> ( 연구성과있음 ) |\n",
    "|$H_{0}$ 채택| $1-\\alpha$ <br /> 비행기에 결함이 없는데 없다고 옳게 판단<br /> ( 연구성과없음 ) | $\\beta$ <br /> <font color=\"red\"> 비행기에 결함이 있는데 없다고 판단 <br /> ( high risk ) |\n",
    "\n",
    "- 이 경우 $\\beta-오류$로 인해 발생되는 위험이 critical 함\n",
    "- 따라서 유의수준 $\\alpha$ 를 0.4 정도로 하여(신뢰구간 60%) $\\beta-오류$ 를 줄인다. ( 최대한 깐깐하게 결함 체크를 한다. )\n",
    "- 이렇게 될 경우, $1-\\beta$ 는 자연스레 높아지게 되어 진짜 결함이 있는 비행기를 찾을 확률 또한 높아지게 된다."
   ]
  }
 ],
 "metadata": {
  "kernelspec": {
   "display_name": "Python 3",
   "language": "python",
   "name": "python3"
  },
  "language_info": {
   "codemirror_mode": {
    "name": "ipython",
    "version": 3
   },
   "file_extension": ".py",
   "mimetype": "text/x-python",
   "name": "python",
   "nbconvert_exporter": "python",
   "pygments_lexer": "ipython3",
   "version": "3.5.1"
  }
 },
 "nbformat": 4,
 "nbformat_minor": 2
}
