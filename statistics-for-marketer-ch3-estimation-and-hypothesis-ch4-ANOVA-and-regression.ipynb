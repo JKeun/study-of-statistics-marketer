{
 "cells": [
  {
   "cell_type": "markdown",
   "metadata": {
    "slideshow": {
     "slide_type": "slide"
    }
   },
   "source": [
    "# 마케터를 위한 기초통계\n",
    "- 디지털 마케팅 SCHOOL 5기 (`17. 4. 10`)"
   ]
  },
  {
   "cell_type": "markdown",
   "metadata": {
    "slideshow": {
     "slide_type": "slide"
    }
   },
   "source": [
    "#### 수업의 개요와 흐름잡기\n",
    "## Chapter 1. 통계를 왜 배워야 하는가 ?\n",
    "- 통계의 목적\n",
    "- 문제의 모형화"
   ]
  },
  {
   "cell_type": "markdown",
   "metadata": {
    "slideshow": {
     "slide_type": "subslide"
    }
   },
   "source": [
    "#### 수업의 개요와 흐름잡기\n",
    "## Chapter 2. 통계의 언어 배우기\n",
    "- 모집단과 표본\n",
    "- 모수와 통계량\n",
    "- 기술통계와 추론통계\n",
    "- 평균과 분산, 표준편차\n",
    "- 확률론\n",
    " - 조건부확률과 베이즈정리\n",
    " - 확률변수와 확률분포"
   ]
  },
  {
   "cell_type": "markdown",
   "metadata": {
    "slideshow": {
     "slide_type": "subslide"
    }
   },
   "source": [
    "#### 수업의 개요와 흐름잡기\n",
    "## Chapter 3. 분석의 기본 단계 (과정) 알기\n",
    "- 표본과 표집분포\n",
    " - 중심극한정리\n",
    "- 통계적 추정\n",
    " - 신뢰도와 신뢰구간\n",
    "- 통계적 가설검정\n",
    " - 유의수준과 P-value"
   ]
  },
  {
   "cell_type": "markdown",
   "metadata": {
    "slideshow": {
     "slide_type": "subslide"
    }
   },
   "source": [
    "#### 수업의 개요와 흐름잡기\n",
    "## Chapter 4. 분석 방법론 (모형) 배우기\n",
    "- ANOVA 분석\n",
    "- 상관분석\n",
    "- 회귀분석"
   ]
  },
  {
   "cell_type": "markdown",
   "metadata": {
    "slideshow": {
     "slide_type": "slide"
    }
   },
   "source": [
    "# Chapter 2. 통계의 언어 배우기"
   ]
  },
  {
   "cell_type": "markdown",
   "metadata": {
    "slideshow": {
     "slide_type": "subslide"
    }
   },
   "source": [
    "## 2.7.4. 확률변수 ( Random variable )\n",
    "- 확률변수란 일정한 확률을 가지고 발생하는 사건에 수치를 부여한 것을 말함\n",
    "- 보통 $X$ 로 표시함\n",
    "- 동전 한 개를 던질 때, 모든 가능한 사건의 집합은?\n",
    " - S = { 앞면 , 뒷면 }\n",
    "- 그러나 실제 통계학적 방법 및 분석과정에 들어서면, 어떠한 수치를 부여할 필요가 있다\n",
    " - S = { 1 , 0 } : 앞면에는 1, 뒷면에는 0을 부여"
   ]
  },
  {
   "cell_type": "markdown",
   "metadata": {
    "slideshow": {
     "slide_type": "subslide"
    }
   },
   "source": [
    "## 2.8. 확률분포 ( Probability Distributioin )\n",
    "- 동전을 두 번 던질 때, 모든 가능한 사건들과 각 사건이 나타날 확률에 대해서 다음과 같이 정의 가능하다\n",
    "- 모든 가능한 사건의 집합 : $S = \\{HH, HT, TH, TT\\}$\n",
    "\n",
    "| 사건 | 앞면의 수 | 각 사건의 확률 |\n",
    "|:---:|:---:|:---:|\n",
    "|$\\{ H ,$$ H \\}$| 2 | 1/4 | \n",
    "|$\\{ H ,$$ T \\}$| 1 | 1/4 | \n",
    "|$\\{ T ,$$ H \\}$| 1 | 1/4 | \n",
    "|$\\{ T ,$$ T \\}$| 0 | 1/4 | "
   ]
  },
  {
   "cell_type": "markdown",
   "metadata": {
    "slideshow": {
     "slide_type": "subslide"
    }
   },
   "source": [
    "- 만약 앞면이 나올 횟수를 확률변수(X)로 하고자 한다면, 다음과 같이 확률분포를 정의 가능하다\n",
    "- 표본공간 $S = \\{2, 1, 0\\}$\n",
    "\n",
    "\n",
    "| 확률변수($X_{i}$) | P($X_{i}$) |\n",
    "|:---:|:---:|\n",
    "| $0$ | 1/4 | \n",
    "| $1$ | 1/2 | \n",
    "| $2$ | 1/4 | \n",
    "\n",
    "- **즉, 확률분포란 어떤 확률변수가 취할 수 있는 모든 값들과 이 값들이 나타날 확률을 표시한 것이다.**"
   ]
  },
  {
   "cell_type": "markdown",
   "metadata": {
    "slideshow": {
     "slide_type": "subslide"
    }
   },
   "source": [
    "## 여러가지 분포\n",
    "- 이항분포\n",
    "- 다항분포\n",
    "- 정규분포\n",
    "- 표준정규분포\n",
    "- $t$-분포\n",
    "- $\\chi2$-분포\n",
    "- $F$-분포"
   ]
  },
  {
   "cell_type": "markdown",
   "metadata": {
    "slideshow": {
     "slide_type": "subslide"
    }
   },
   "source": [
    "### 여러가지 분포 ( 참고 )\n",
    "<br>\n",
    "<center><img src=\"http://blog.cloudera.com/wp-content/uploads/2015/12/distribution.png\", width=1000></center>"
   ]
  },
  {
   "cell_type": "markdown",
   "metadata": {
    "slideshow": {
     "slide_type": "subslide"
    }
   },
   "source": [
    "## 2.8.1. 정규분포 ( Gaussian Normal Distribution )\n",
    "- 정규분포는 표본을 통한 통계적 추정 및 가설검정이론의 기본\n",
    "- 실제로 사회적, 자연적 현상에서 접하는 여러 자료들의 분포도 정규분포와 비슷한 형태를 띔\n",
    "- 현실적인 자료가 이론적인 정규분포와 완전히 일치하는 것은 아니지만 정규분포의 형태에 가깝게 나타나므로 이를 자료분석에 이용할 수 있다는 점\n",
    "\n",
    "<center><img src=\"http://www.seehint.com/catalog/2010/2010_04/%EC%A0%95%EA%B7%9C%EB%B6%84%ED%8F%AC.jpg\", width=800></center>"
   ]
  },
  {
   "cell_type": "markdown",
   "metadata": {
    "slideshow": {
     "slide_type": "subslide"
    }
   },
   "source": [
    "### 정규분포의 특성\n",
    "\n",
    "<center><img src=\"https://upload.wikimedia.org/wikipedia/commons/thumb/7/74/Normal_Distribution_PDF.svg/700px-Normal_Distribution_PDF.svg.png\", width=700></center>\n",
    "\n",
    "1. 정규분포의 모양과 위치는 분포의 평균과 표준편차로 결정된다.\n",
    "1. 정규분포의 확률밀도함수는 평균($\\mu$)을 중심으로 대칭인 종모양이다.\n",
    "1. 정규곡선은 $X$축에 맞닿지 않으므로 확률변수 $X$가 취할 수 있는 값의 범위는 $-\\infty \\le X \\le +\\infty$ 이다.\n",
    "1. 분포의 평균($\\mu$)과 표준편차($\\sigma$)가 어떤 값을 갖더라도, 정규곡선과 $X$축 사이의 전체 면적은 1이다."
   ]
  },
  {
   "cell_type": "markdown",
   "metadata": {
    "slideshow": {
     "slide_type": "subslide"
    }
   },
   "source": [
    "## 2.8.2. 표준정규분포 ( $Z$-분포 )\n",
    "- 정규분포는 평균과 표준편차에 따라 모양과 위치가 각기 다르기 때문에 두 분포의 성격을 비교하거나 특정 정규분포에서 확률을 계산하기 위해서는,\n",
    "- 먼저 **모든 정규분포의 평균과 표준편차를 표준화하여 표준적인 정규분포를 만들어야 한다**\n",
    "<center><img src=\"http://www.ktword.co.kr/img_data/1995_4.JPG\", width=500></center> "
   ]
  },
  {
   "cell_type": "markdown",
   "metadata": {
    "slideshow": {
     "slide_type": "subslide"
    }
   },
   "source": [
    "- ex. 어느 학생이 영어와 수학 시험을 치렀다. 그 결과 영어점수는 80점이고 수학점수는 75점이었\n",
    "다. 이 학생은 어느과목을 더 잘했다고 할 수 있는가?\n",
    "\n",
    "- ex. 추가정보 : 영어과목에서는 전체학급의 평균은 90점, 표준편차는 5점 그리고 수학과목에서는 평균이 60점, 표준편차가 10점이라고 한다."
   ]
  },
  {
   "cell_type": "markdown",
   "metadata": {
    "slideshow": {
     "slide_type": "subslide"
    }
   },
   "source": [
    "### 표준정규분포 ( 계속 )\n",
    "- 표준정규분포는 모든 정규분포를 평균 $\\mu=0$, 표준편차 $\\sigma=1$이 되도록 **표준화**한 것이다. 어떤 확률변수 $X$의 관찰값이 그 분포의 평균으로부터 표준편차의 몇 배 정도나 떨어져 있는가를 다음과 같이 표준화된 확률변수 $Z$로 나타내기 때문에 표준정규분포를 $Z$-분포 라고도 한다.\n",
    "\n",
    "$$\n",
    "Z = \\frac{X-\\mu}{\\sigma}\n",
    "$$\n",
    "\n",
    "- 앞에서 든 예를 $Z$의 척도로 바꾸어 보면,\n",
    "\n",
    "$$\n",
    "영어 \\quad Z = \\frac{80 - 90}{5} = -2, \\quad 수학 \\quad Z = \\frac{75 - 60}{10} = 1.5\n",
    "$$"
   ]
  },
  {
   "cell_type": "markdown",
   "metadata": {
    "slideshow": {
     "slide_type": "slide"
    }
   },
   "source": [
    "# Chapter 3. 분석의 기본 단계 (과정) 알기"
   ]
  },
  {
   "cell_type": "markdown",
   "metadata": {
    "slideshow": {
     "slide_type": "subslide"
    }
   },
   "source": [
    "## 표본과 표집분포 ( 안해도 될듯 ) - 추론통계 표 다시보여주기\n",
    "- 표본 ( Sample ), 통계량 ( Statistic )\n",
    " - 표본 추출의 중요성\n",
    "- 표집분포 "
   ]
  },
  {
   "cell_type": "markdown",
   "metadata": {
    "slideshow": {
     "slide_type": "subslide"
    }
   },
   "source": [
    "## 통계적 추정 ( 점추정과 구간추정 차이 알려주기 )"
   ]
  },
  {
   "cell_type": "markdown",
   "metadata": {
    "slideshow": {
     "slide_type": "subslide"
    }
   },
   "source": [
    "## 신뢰도와 신뢰구간 ( 구간추정에서 )\n",
    "- 그 의미와 관계 알려주기"
   ]
  },
  {
   "cell_type": "markdown",
   "metadata": {
    "slideshow": {
     "slide_type": "subslide"
    }
   },
   "source": [
    "## 통계적 가설검정 ( 중점 )\n",
    "- 가설검정의 의미\n",
    "- 기본 용어\n",
    " - 유의수준과 P-value\n",
    "- 순서"
   ]
  },
  {
   "cell_type": "markdown",
   "metadata": {
    "slideshow": {
     "slide_type": "subslide"
    }
   },
   "source": [
    "### 통계적 가설검정 예제"
   ]
  },
  {
   "cell_type": "markdown",
   "metadata": {
    "slideshow": {
     "slide_type": "slide"
    }
   },
   "source": [
    "# Chapter 4. 분석 방법론 (모형) 배우기"
   ]
  },
  {
   "cell_type": "markdown",
   "metadata": {
    "slideshow": {
     "slide_type": "subslide"
    }
   },
   "source": [
    "## ANOVA 분석"
   ]
  },
  {
   "cell_type": "markdown",
   "metadata": {
    "slideshow": {
     "slide_type": "subslide"
    }
   },
   "source": [
    "## A/B Test 실습"
   ]
  },
  {
   "cell_type": "markdown",
   "metadata": {
    "slideshow": {
     "slide_type": "subslide"
    }
   },
   "source": [
    "## 상관분석"
   ]
  },
  {
   "cell_type": "markdown",
   "metadata": {
    "slideshow": {
     "slide_type": "subslide"
    }
   },
   "source": [
    "## 상관분석 실습"
   ]
  },
  {
   "cell_type": "markdown",
   "metadata": {
    "slideshow": {
     "slide_type": "subslide"
    }
   },
   "source": [
    "## 회귀분석"
   ]
  },
  {
   "cell_type": "markdown",
   "metadata": {
    "slideshow": {
     "slide_type": "subslide"
    }
   },
   "source": [
    "## 회귀분석 실습"
   ]
  }
 ],
 "metadata": {
  "celltoolbar": "Slideshow",
  "kernelspec": {
   "display_name": "Python 3",
   "language": "python",
   "name": "python3"
  },
  "language_info": {
   "codemirror_mode": {
    "name": "ipython",
    "version": 3
   },
   "file_extension": ".py",
   "mimetype": "text/x-python",
   "name": "python",
   "nbconvert_exporter": "python",
   "pygments_lexer": "ipython3",
   "version": "3.5.1"
  }
 },
 "nbformat": 4,
 "nbformat_minor": 0
}
