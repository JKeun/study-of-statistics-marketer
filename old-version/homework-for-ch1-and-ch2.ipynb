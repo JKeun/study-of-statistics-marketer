{
 "cells": [
  {
   "cell_type": "markdown",
   "metadata": {},
   "source": [
    "## Homework 1\n",
    "---"
   ]
  },
  {
   "cell_type": "markdown",
   "metadata": {},
   "source": [
    "#### 1. 다음 자료에서 산술평균, 중앙값, 최빈값, 분산을 구하세요.\n",
    "- `3, 5, 2, 6, 5, 9, 5, 2, 8, 6`"
   ]
  },
  {
   "cell_type": "markdown",
   "metadata": {},
   "source": [
    "<br>"
   ]
  },
  {
   "cell_type": "markdown",
   "metadata": {},
   "source": [
    "<br>"
   ]
  },
  {
   "cell_type": "markdown",
   "metadata": {},
   "source": [
    "<br>"
   ]
  },
  {
   "cell_type": "markdown",
   "metadata": {},
   "source": [
    "#### 2.  다음의 확률을 계산하세요.\n",
    "1. `1개의 주사위를 2회 던졌을 때 1이 계속해서 나올 확률`\n",
    "2. `2개의 주사위를 동시에 던졌을 때 나온 수가 같을 확률`\n",
    "3. `1개의 주사위를 3회 던졌을 때 1이 한 번만 나올 확률`\n",
    "4. `2개의 주사위를 동시에 던졌을 때 나온 수의 합이 6이하가 될 확률`\n",
    "5. `3개의 주사위를 동시에 던졌을 때 1, 2, 3의 수가 나올 확률`"
   ]
  },
  {
   "cell_type": "markdown",
   "metadata": {},
   "source": [
    "<br>"
   ]
  },
  {
   "cell_type": "markdown",
   "metadata": {},
   "source": [
    "<br>"
   ]
  },
  {
   "cell_type": "markdown",
   "metadata": {},
   "source": [
    "<br>"
   ]
  },
  {
   "cell_type": "markdown",
   "metadata": {},
   "source": [
    "#### 3. 다음의 확률을 계산하세요.\n",
    "- 어느 대학 1학년에 입학한 한 학생이 경영과목에서 합격점수를 받을 확률은 2/3고, 경영학과 통계학 두 과목에서 모두 합격점수를 받을 확률은 1/2이다. 만일 그가 경영과목에 합격했음을 알고 있다면, 통계학과목에서 합격점수를 받았을 확률은 얼마인가? (단, 두 과목의 합격가능성은 서로 독립적이라고 하자.)"
   ]
  }
 ],
 "metadata": {
  "kernelspec": {
   "display_name": "Python 3",
   "language": "python",
   "name": "python3"
  },
  "language_info": {
   "codemirror_mode": {
    "name": "ipython",
    "version": 3
   },
   "file_extension": ".py",
   "mimetype": "text/x-python",
   "name": "python",
   "nbconvert_exporter": "python",
   "pygments_lexer": "ipython3",
   "version": "3.5.1"
  }
 },
 "nbformat": 4,
 "nbformat_minor": 2
}
