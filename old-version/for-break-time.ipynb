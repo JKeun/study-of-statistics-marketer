{
 "cells": [
  {
   "cell_type": "markdown",
   "metadata": {
    "slideshow": {
     "slide_type": "slide"
    }
   },
   "source": [
    "# 첫번째 쉬는시간\n",
    "- 스트레칭 ( 1 )\n",
    "<center><img src=\"http://cfile227.uf.daum.net/image/265B4649534B932D279CA7\", width=800></center>"
   ]
  },
  {
   "cell_type": "markdown",
   "metadata": {
    "slideshow": {
     "slide_type": "slide"
    }
   },
   "source": [
    "# 두번째 쉬는시간\n",
    "- 스트레칭 ( 2 )\n",
    "<center><img src=\"http://hqcenter.snu.ac.kr/hp/wp-content/uploads/%EC%A0%84%EC%8B%A0-%EC%8A%A4%ED%8A%B8%EB%A0%88%EC%B9%AD.png\", width=800></center>"
   ]
  }
 ],
 "metadata": {
  "celltoolbar": "Slideshow",
  "kernelspec": {
   "display_name": "Python 3",
   "language": "python",
   "name": "python3"
  },
  "language_info": {
   "codemirror_mode": {
    "name": "ipython",
    "version": 3
   },
   "file_extension": ".py",
   "mimetype": "text/x-python",
   "name": "python",
   "nbconvert_exporter": "python",
   "pygments_lexer": "ipython3",
   "version": "3.5.1"
  }
 },
 "nbformat": 4,
 "nbformat_minor": 0
}
